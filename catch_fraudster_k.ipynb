{
 "cells": [
  {
   "cell_type": "code",
   "execution_count": 1,
   "id": "80de737f-fac9-4fe5-bffc-752b280d65a9",
   "metadata": {},
   "outputs": [],
   "source": [
    "# Initial Library Imports\n",
    "import pandas as pd\n",
    "import numpy as np\n",
    "from pathlib import Path\n",
    "from sklearn.preprocessing import OneHotEncoder\n",
    "from sklearn.preprocessing import StandardScaler\n",
    "from sklearn.model_selection import train_test_split\n",
    "import datetime as dt\n",
    "from sklearn.metrics import confusion_matrix,classification_report\n",
    "\n",
    "from sklearn.neighbors import KNeighborsClassifier\n",
    "from sklearn.model_selection import KFold\n",
    "from sklearn.model_selection import cross_val_score\n",
    "\n",
    "from sklearn.svm import SVC\n",
    "from sklearn.model_selection import StratifiedShuffleSplit\n",
    "from sklearn.model_selection import GridSearchCV"
   ]
  },
  {
   "cell_type": "code",
   "execution_count": 2,
   "id": "00426c99-6deb-4761-9887-0445a3c7d8ca",
   "metadata": {},
   "outputs": [],
   "source": [
    "def create_date(df, year, month, day_of_week, week_of_month):\n",
    "    df['date'] = pd.to_datetime(df[[year, month, day_of_week]])\n",
    "    df['FirstDayOfMonth'] = pd.to_datetime(df[[year, month]].assign(day=1))\n",
    "    df['Offset'] = df[day_of_week] - df['FirstDayOfMonth'].dt.weekday\n",
    "    df['DaysToAdd'] = df[week_of_month]*7 + df['Offset']\n",
    "    df['date'] = df['FirstDayOfMonth'] + pd.to_timedelta(df['DaysToAdd'], unit='D')\n",
    "    df.drop(['FirstDayOfMonth', 'Offset', 'DaysToAdd'], axis=1)\n",
    "    return df"
   ]
  },
  {
   "cell_type": "code",
   "execution_count": 3,
   "id": "b857ca98-3b53-4ced-93df-6ed7292253d6",
   "metadata": {},
   "outputs": [],
   "source": [
    "# Import Data from csv\n",
    "oracle_path = Path('dataset/fraud_oracle.csv')\n",
    "oracle_data = pd.read_csv(oracle_path)"
   ]
  },
  {
   "cell_type": "code",
   "execution_count": 4,
   "id": "dbbee806-16c5-4784-bba3-6a9e31e2f8f4",
   "metadata": {},
   "outputs": [
    {
     "data": {
      "text/html": [
       "<div>\n",
       "<style scoped>\n",
       "    .dataframe tbody tr th:only-of-type {\n",
       "        vertical-align: middle;\n",
       "    }\n",
       "\n",
       "    .dataframe tbody tr th {\n",
       "        vertical-align: top;\n",
       "    }\n",
       "\n",
       "    .dataframe thead th {\n",
       "        text-align: right;\n",
       "    }\n",
       "</style>\n",
       "<table border=\"1\" class=\"dataframe\">\n",
       "  <thead>\n",
       "    <tr style=\"text-align: right;\">\n",
       "      <th></th>\n",
       "      <th>Month</th>\n",
       "      <th>WeekOfMonth</th>\n",
       "      <th>DayOfWeek</th>\n",
       "      <th>Make</th>\n",
       "      <th>AccidentArea</th>\n",
       "      <th>DayOfWeekClaimed</th>\n",
       "      <th>MonthClaimed</th>\n",
       "      <th>WeekOfMonthClaimed</th>\n",
       "      <th>Sex</th>\n",
       "      <th>MaritalStatus</th>\n",
       "      <th>...</th>\n",
       "      <th>AgeOfVehicle</th>\n",
       "      <th>AgeOfPolicyHolder</th>\n",
       "      <th>PoliceReportFiled</th>\n",
       "      <th>WitnessPresent</th>\n",
       "      <th>AgentType</th>\n",
       "      <th>NumberOfSuppliments</th>\n",
       "      <th>AddressChange_Claim</th>\n",
       "      <th>NumberOfCars</th>\n",
       "      <th>Year</th>\n",
       "      <th>BasePolicy</th>\n",
       "    </tr>\n",
       "  </thead>\n",
       "  <tbody>\n",
       "    <tr>\n",
       "      <th>0</th>\n",
       "      <td>Dec</td>\n",
       "      <td>5</td>\n",
       "      <td>Wednesday</td>\n",
       "      <td>Honda</td>\n",
       "      <td>Urban</td>\n",
       "      <td>Tuesday</td>\n",
       "      <td>Jan</td>\n",
       "      <td>1</td>\n",
       "      <td>Female</td>\n",
       "      <td>Single</td>\n",
       "      <td>...</td>\n",
       "      <td>3 years</td>\n",
       "      <td>26 to 30</td>\n",
       "      <td>No</td>\n",
       "      <td>No</td>\n",
       "      <td>External</td>\n",
       "      <td>none</td>\n",
       "      <td>1 year</td>\n",
       "      <td>3 to 4</td>\n",
       "      <td>1994</td>\n",
       "      <td>Liability</td>\n",
       "    </tr>\n",
       "    <tr>\n",
       "      <th>1</th>\n",
       "      <td>Jan</td>\n",
       "      <td>3</td>\n",
       "      <td>Wednesday</td>\n",
       "      <td>Honda</td>\n",
       "      <td>Urban</td>\n",
       "      <td>Monday</td>\n",
       "      <td>Jan</td>\n",
       "      <td>4</td>\n",
       "      <td>Male</td>\n",
       "      <td>Single</td>\n",
       "      <td>...</td>\n",
       "      <td>6 years</td>\n",
       "      <td>31 to 35</td>\n",
       "      <td>Yes</td>\n",
       "      <td>No</td>\n",
       "      <td>External</td>\n",
       "      <td>none</td>\n",
       "      <td>no change</td>\n",
       "      <td>1 vehicle</td>\n",
       "      <td>1994</td>\n",
       "      <td>Collision</td>\n",
       "    </tr>\n",
       "    <tr>\n",
       "      <th>2</th>\n",
       "      <td>Oct</td>\n",
       "      <td>5</td>\n",
       "      <td>Friday</td>\n",
       "      <td>Honda</td>\n",
       "      <td>Urban</td>\n",
       "      <td>Thursday</td>\n",
       "      <td>Nov</td>\n",
       "      <td>2</td>\n",
       "      <td>Male</td>\n",
       "      <td>Married</td>\n",
       "      <td>...</td>\n",
       "      <td>7 years</td>\n",
       "      <td>41 to 50</td>\n",
       "      <td>No</td>\n",
       "      <td>No</td>\n",
       "      <td>External</td>\n",
       "      <td>none</td>\n",
       "      <td>no change</td>\n",
       "      <td>1 vehicle</td>\n",
       "      <td>1994</td>\n",
       "      <td>Collision</td>\n",
       "    </tr>\n",
       "    <tr>\n",
       "      <th>3</th>\n",
       "      <td>Jun</td>\n",
       "      <td>2</td>\n",
       "      <td>Saturday</td>\n",
       "      <td>Toyota</td>\n",
       "      <td>Rural</td>\n",
       "      <td>Friday</td>\n",
       "      <td>Jul</td>\n",
       "      <td>1</td>\n",
       "      <td>Male</td>\n",
       "      <td>Married</td>\n",
       "      <td>...</td>\n",
       "      <td>more than 7</td>\n",
       "      <td>51 to 65</td>\n",
       "      <td>Yes</td>\n",
       "      <td>No</td>\n",
       "      <td>External</td>\n",
       "      <td>more than 5</td>\n",
       "      <td>no change</td>\n",
       "      <td>1 vehicle</td>\n",
       "      <td>1994</td>\n",
       "      <td>Liability</td>\n",
       "    </tr>\n",
       "    <tr>\n",
       "      <th>4</th>\n",
       "      <td>Jan</td>\n",
       "      <td>5</td>\n",
       "      <td>Monday</td>\n",
       "      <td>Honda</td>\n",
       "      <td>Urban</td>\n",
       "      <td>Tuesday</td>\n",
       "      <td>Feb</td>\n",
       "      <td>2</td>\n",
       "      <td>Female</td>\n",
       "      <td>Single</td>\n",
       "      <td>...</td>\n",
       "      <td>5 years</td>\n",
       "      <td>31 to 35</td>\n",
       "      <td>No</td>\n",
       "      <td>No</td>\n",
       "      <td>External</td>\n",
       "      <td>none</td>\n",
       "      <td>no change</td>\n",
       "      <td>1 vehicle</td>\n",
       "      <td>1994</td>\n",
       "      <td>Collision</td>\n",
       "    </tr>\n",
       "  </tbody>\n",
       "</table>\n",
       "<p>5 rows × 33 columns</p>\n",
       "</div>"
      ],
      "text/plain": [
       "  Month  WeekOfMonth  DayOfWeek    Make AccidentArea DayOfWeekClaimed  \\\n",
       "0   Dec            5  Wednesday   Honda        Urban          Tuesday   \n",
       "1   Jan            3  Wednesday   Honda        Urban           Monday   \n",
       "2   Oct            5     Friday   Honda        Urban         Thursday   \n",
       "3   Jun            2   Saturday  Toyota        Rural           Friday   \n",
       "4   Jan            5     Monday   Honda        Urban          Tuesday   \n",
       "\n",
       "  MonthClaimed  WeekOfMonthClaimed     Sex MaritalStatus  ...  AgeOfVehicle  \\\n",
       "0          Jan                   1  Female        Single  ...       3 years   \n",
       "1          Jan                   4    Male        Single  ...       6 years   \n",
       "2          Nov                   2    Male       Married  ...       7 years   \n",
       "3          Jul                   1    Male       Married  ...   more than 7   \n",
       "4          Feb                   2  Female        Single  ...       5 years   \n",
       "\n",
       "  AgeOfPolicyHolder PoliceReportFiled WitnessPresent AgentType  \\\n",
       "0          26 to 30                No             No  External   \n",
       "1          31 to 35               Yes             No  External   \n",
       "2          41 to 50                No             No  External   \n",
       "3          51 to 65               Yes             No  External   \n",
       "4          31 to 35                No             No  External   \n",
       "\n",
       "   NumberOfSuppliments  AddressChange_Claim  NumberOfCars  Year  BasePolicy  \n",
       "0                 none               1 year        3 to 4  1994   Liability  \n",
       "1                 none            no change     1 vehicle  1994   Collision  \n",
       "2                 none            no change     1 vehicle  1994   Collision  \n",
       "3          more than 5            no change     1 vehicle  1994   Liability  \n",
       "4                 none            no change     1 vehicle  1994   Collision  \n",
       "\n",
       "[5 rows x 33 columns]"
      ]
     },
     "execution_count": 4,
     "metadata": {},
     "output_type": "execute_result"
    }
   ],
   "source": [
    "# View Oracle Dataframe\n",
    "oracle_data.head()"
   ]
  },
  {
   "cell_type": "code",
   "execution_count": 5,
   "id": "703d9c60-5664-496e-a63c-480931fc50fd",
   "metadata": {},
   "outputs": [
    {
     "data": {
      "text/plain": [
       "Index(['Month', 'WeekOfMonth', 'DayOfWeek', 'Make', 'AccidentArea',\n",
       "       'DayOfWeekClaimed', 'MonthClaimed', 'WeekOfMonthClaimed', 'Sex',\n",
       "       'MaritalStatus', 'Age', 'Fault', 'PolicyType', 'VehicleCategory',\n",
       "       'VehiclePrice', 'FraudFound_P', 'PolicyNumber', 'RepNumber',\n",
       "       'Deductible', 'DriverRating', 'Days_Policy_Accident',\n",
       "       'Days_Policy_Claim', 'PastNumberOfClaims', 'AgeOfVehicle',\n",
       "       'AgeOfPolicyHolder', 'PoliceReportFiled', 'WitnessPresent', 'AgentType',\n",
       "       'NumberOfSuppliments', 'AddressChange_Claim', 'NumberOfCars', 'Year',\n",
       "       'BasePolicy'],\n",
       "      dtype='object')"
      ]
     },
     "execution_count": 5,
     "metadata": {},
     "output_type": "execute_result"
    }
   ],
   "source": [
    "# List all columns\n",
    "oracle_data.columns"
   ]
  },
  {
   "cell_type": "code",
   "execution_count": 6,
   "id": "d70cb7da-7019-4a2e-a0ce-711894153156",
   "metadata": {},
   "outputs": [
    {
     "data": {
      "text/plain": [
       "31 to 35    5593\n",
       "36 to 40    4043\n",
       "41 to 50    2828\n",
       "51 to 65    1392\n",
       "26 to 30     613\n",
       "over 65      508\n",
       "16 to 17     320\n",
       "21 to 25     108\n",
       "18 to 20      15\n",
       "Name: AgeOfPolicyHolder, dtype: int64"
      ]
     },
     "execution_count": 6,
     "metadata": {},
     "output_type": "execute_result"
    }
   ],
   "source": [
    "# Check columns we're unsure of\n",
    "oracle_data['AgeOfPolicyHolder'].value_counts()"
   ]
  },
  {
   "cell_type": "code",
   "execution_count": 7,
   "id": "c990f2ef-bbb0-45ea-b0b1-19545a062193",
   "metadata": {},
   "outputs": [
    {
     "data": {
      "text/plain": [
       "31 to 40    9636\n",
       "41 to 50    2828\n",
       "51 to 65    1392\n",
       "21 to 30     721\n",
       "over 65      508\n",
       "16 to 20     335\n",
       "Name: AgeOfPolicyHolder, dtype: int64"
      ]
     },
     "execution_count": 7,
     "metadata": {},
     "output_type": "execute_result"
    }
   ],
   "source": [
    "# Reduce dimensionality of AgeOfPolicyHolder Column\n",
    "oracle_data.loc[oracle_data['AgeOfPolicyHolder'] == '16 to 17', 'AgeOfPolicyHolder'] = '16 to 20'\n",
    "oracle_data.loc[oracle_data['AgeOfPolicyHolder'] == '18 to 20', 'AgeOfPolicyHolder'] = '16 to 20'\n",
    "oracle_data.loc[oracle_data['AgeOfPolicyHolder'] == '21 to 25', 'AgeOfPolicyHolder'] = '21 to 30'\n",
    "oracle_data.loc[oracle_data['AgeOfPolicyHolder'] == '26 to 30', 'AgeOfPolicyHolder'] = '21 to 30'\n",
    "oracle_data.loc[oracle_data['AgeOfPolicyHolder'] == '31 to 35', 'AgeOfPolicyHolder'] = '31 to 40'\n",
    "oracle_data.loc[oracle_data['AgeOfPolicyHolder'] == '36 to 40', 'AgeOfPolicyHolder'] = '31 to 40'\n",
    "\n",
    "oracle_data['AgeOfPolicyHolder'].value_counts()"
   ]
  },
  {
   "cell_type": "code",
   "execution_count": 8,
   "id": "08c7578f-de45-4796-9ef8-b3c4a97a2ddb",
   "metadata": {},
   "outputs": [
    {
     "data": {
      "text/plain": [
       "2    3720\n",
       "3    3583\n",
       "1    3450\n",
       "4    3433\n",
       "5    1234\n",
       "Name: WeekOfMonthClaimed, dtype: int64"
      ]
     },
     "metadata": {},
     "output_type": "display_data"
    }
   ],
   "source": [
    "display(oracle_data['WeekOfMonthClaimed'].value_counts())"
   ]
  },
  {
   "cell_type": "code",
   "execution_count": 9,
   "id": "7714b6c3-0a42-4527-85ce-626528ff4cdb",
   "metadata": {},
   "outputs": [
    {
     "data": {
      "text/plain": [
       "Second    3720\n",
       "Third     3583\n",
       "First     3450\n",
       "Fourth    3433\n",
       "Fifth     1234\n",
       "Name: WeekOfMonthClaimed, dtype: int64"
      ]
     },
     "execution_count": 9,
     "metadata": {},
     "output_type": "execute_result"
    }
   ],
   "source": [
    "# Make WeekOfMonthClaimed column Categorical\n",
    "\n",
    "# Convert column to hold strings\n",
    "oracle_data['WeekOfMonthClaimed'] = oracle_data['WeekOfMonthClaimed'].astype('str')\n",
    "\n",
    "# Create string values for week of month\n",
    "oracle_data.loc[oracle_data['WeekOfMonthClaimed'] == '1', 'WeekOfMonthClaimed'] = 'First'\n",
    "oracle_data.loc[oracle_data['WeekOfMonthClaimed'] == '2', 'WeekOfMonthClaimed'] = 'Second'\n",
    "oracle_data.loc[oracle_data['WeekOfMonthClaimed'] == '3', 'WeekOfMonthClaimed'] = 'Third'\n",
    "oracle_data.loc[oracle_data['WeekOfMonthClaimed'] == '4', 'WeekOfMonthClaimed'] = 'Fourth'\n",
    "oracle_data.loc[oracle_data['WeekOfMonthClaimed'] == '5', 'WeekOfMonthClaimed'] = 'Fifth'\n",
    "\n",
    "# Confirm that it worked\n",
    "oracle_data['WeekOfMonthClaimed'].value_counts()"
   ]
  },
  {
   "cell_type": "code",
   "execution_count": 10,
   "id": "2885cd70-99c7-4abe-8b7e-012c778996ab",
   "metadata": {},
   "outputs": [
    {
     "data": {
      "text/plain": [
       "1994    6142\n",
       "1995    5195\n",
       "1996    4083\n",
       "Name: Year, dtype: int64"
      ]
     },
     "metadata": {},
     "output_type": "display_data"
    }
   ],
   "source": [
    "display(oracle_data['Year'].value_counts())"
   ]
  },
  {
   "cell_type": "code",
   "execution_count": 11,
   "id": "f4c2bbf8-1d29-4286-9238-fbf6706f8a8a",
   "metadata": {},
   "outputs": [
    {
     "data": {
      "text/plain": [
       "Jan    1411\n",
       "May    1367\n",
       "Mar    1360\n",
       "Jun    1321\n",
       "Oct    1305\n",
       "Dec    1285\n",
       "Apr    1280\n",
       "Feb    1266\n",
       "Jul    1257\n",
       "Sep    1240\n",
       "Nov    1201\n",
       "Aug    1127\n",
       "Name: Month, dtype: int64"
      ]
     },
     "metadata": {},
     "output_type": "display_data"
    },
    {
     "name": "stdout",
     "output_type": "stream",
     "text": [
      "\n"
     ]
    },
    {
     "data": {
      "text/plain": [
       "Jan    1446\n",
       "May    1411\n",
       "Mar    1348\n",
       "Oct    1339\n",
       "Jun    1293\n",
       "Feb    1287\n",
       "Nov    1285\n",
       "Apr    1271\n",
       "Sep    1242\n",
       "Jul    1225\n",
       "Dec    1146\n",
       "Aug    1126\n",
       "0         1\n",
       "Name: MonthClaimed, dtype: int64"
      ]
     },
     "metadata": {},
     "output_type": "display_data"
    }
   ],
   "source": [
    "display(oracle_data['Month'].value_counts())\n",
    "print()\n",
    "display(oracle_data['MonthClaimed'].value_counts())"
   ]
  },
  {
   "cell_type": "code",
   "execution_count": 12,
   "id": "c0c4a862-bb2e-4513-b107-396ed5d09484",
   "metadata": {},
   "outputs": [
    {
     "data": {
      "text/plain": [
       "Monday       2616\n",
       "Friday       2445\n",
       "Tuesday      2300\n",
       "Thursday     2173\n",
       "Wednesday    2159\n",
       "Saturday     1982\n",
       "Sunday       1745\n",
       "Name: DayOfWeek, dtype: int64"
      ]
     },
     "metadata": {},
     "output_type": "display_data"
    },
    {
     "name": "stdout",
     "output_type": "stream",
     "text": [
      "\n"
     ]
    },
    {
     "data": {
      "text/plain": [
       "Monday       3757\n",
       "Tuesday      3375\n",
       "Wednesday    2951\n",
       "Thursday     2660\n",
       "Friday       2497\n",
       "Saturday      127\n",
       "Sunday         52\n",
       "0               1\n",
       "Name: DayOfWeekClaimed, dtype: int64"
      ]
     },
     "metadata": {},
     "output_type": "display_data"
    }
   ],
   "source": [
    "# Check columns we're unsure of\n",
    "display(oracle_data['DayOfWeek'].value_counts())\n",
    "print()\n",
    "display(oracle_data['DayOfWeekClaimed'].value_counts())"
   ]
  },
  {
   "cell_type": "code",
   "execution_count": 13,
   "id": "c8bfb4f0-4a58-40c0-943e-2ca8ad6b7ad3",
   "metadata": {},
   "outputs": [],
   "source": [
    "# Drop single row where 'DayOfWeekClaimed' equals 0\n",
    "nodayofweek = oracle_data[(oracle_data['DayOfWeekClaimed'] == '0')].index\n",
    "oracle_data.drop(nodayofweek , inplace=True)"
   ]
  },
  {
   "cell_type": "code",
   "execution_count": 14,
   "id": "f70fd5bb-2df4-4841-804a-29f81ec423fb",
   "metadata": {},
   "outputs": [
    {
     "data": {
      "text/plain": [
       "Monday       3757\n",
       "Tuesday      3375\n",
       "Wednesday    2951\n",
       "Thursday     2660\n",
       "Friday       2497\n",
       "Saturday      127\n",
       "Sunday         52\n",
       "Name: DayOfWeekClaimed, dtype: int64"
      ]
     },
     "execution_count": 14,
     "metadata": {},
     "output_type": "execute_result"
    }
   ],
   "source": [
    "# Check that the row was removed\n",
    "oracle_data['DayOfWeekClaimed'].value_counts()"
   ]
  },
  {
   "cell_type": "code",
   "execution_count": 15,
   "id": "2d0660af-95e6-4981-a863-e0805ec60fc0",
   "metadata": {},
   "outputs": [
    {
     "data": {
      "text/plain": [
       "Weekday    15240\n",
       "Weekend      179\n",
       "Name: DayOfWeekClaimed, dtype: int64"
      ]
     },
     "execution_count": 15,
     "metadata": {},
     "output_type": "execute_result"
    }
   ],
   "source": [
    "# Reduce Dimensionality of DayOfWeekClaimed \n",
    "oracle_data.loc[oracle_data['DayOfWeekClaimed'] == 'Monday', 'DayOfWeekClaimed'] = 'Weekday'\n",
    "oracle_data.loc[oracle_data['DayOfWeekClaimed'] == 'Tuesday', 'DayOfWeekClaimed'] = 'Weekday'\n",
    "oracle_data.loc[oracle_data['DayOfWeekClaimed'] == 'Wednesday', 'DayOfWeekClaimed'] = 'Weekday'\n",
    "oracle_data.loc[oracle_data['DayOfWeekClaimed'] == 'Thursday', 'DayOfWeekClaimed'] = 'Weekday'\n",
    "oracle_data.loc[oracle_data['DayOfWeekClaimed'] == 'Friday', 'DayOfWeekClaimed'] = 'Weekday'\n",
    "oracle_data.loc[oracle_data['DayOfWeekClaimed'] == 'Saturday', 'DayOfWeekClaimed'] = 'Weekend'\n",
    "oracle_data.loc[oracle_data['DayOfWeekClaimed'] == 'Sunday', 'DayOfWeekClaimed'] = 'Weekend'\n",
    "\n",
    "# Confirm that it worked\n",
    "oracle_data['DayOfWeekClaimed'].value_counts()"
   ]
  },
  {
   "cell_type": "code",
   "execution_count": 16,
   "id": "dad7f98e-3085-43bb-8dfd-ccb3663087b4",
   "metadata": {},
   "outputs": [
    {
     "data": {
      "text/plain": [
       "Second    3720\n",
       "Third     3583\n",
       "First     3449\n",
       "Fourth    3433\n",
       "Fifth     1234\n",
       "Name: WeekOfMonthClaimed, dtype: int64"
      ]
     },
     "metadata": {},
     "output_type": "display_data"
    },
    {
     "name": "stdout",
     "output_type": "stream",
     "text": [
      "\n"
     ]
    },
    {
     "data": {
      "text/plain": [
       "3    3640\n",
       "2    3557\n",
       "4    3398\n",
       "1    3187\n",
       "5    1637\n",
       "Name: WeekOfMonth, dtype: int64"
      ]
     },
     "metadata": {},
     "output_type": "display_data"
    }
   ],
   "source": [
    "# Check columns we're unsure of\n",
    "display(oracle_data['WeekOfMonthClaimed'].value_counts())\n",
    "print()\n",
    "display(oracle_data['WeekOfMonth'].value_counts())"
   ]
  },
  {
   "cell_type": "code",
   "execution_count": 17,
   "id": "a87c921e-0645-411d-957f-ae12987e82be",
   "metadata": {},
   "outputs": [
    {
     "data": {
      "text/plain": [
       "7 years        5807\n",
       "more than 7    3981\n",
       "6 years        3448\n",
       "5 years        1357\n",
       "new             372\n",
       "4 years         229\n",
       "3 years         152\n",
       "2 years          73\n",
       "Name: AgeOfVehicle, dtype: int64"
      ]
     },
     "execution_count": 17,
     "metadata": {},
     "output_type": "execute_result"
    }
   ],
   "source": [
    "# Check columns we're unsure of\n",
    "oracle_data['AgeOfVehicle'].value_counts()"
   ]
  },
  {
   "cell_type": "code",
   "execution_count": 18,
   "id": "60431fd8-e7c6-4a21-962e-7de18e962aee",
   "metadata": {},
   "outputs": [
    {
     "data": {
      "text/html": [
       "<div>\n",
       "<style scoped>\n",
       "    .dataframe tbody tr th:only-of-type {\n",
       "        vertical-align: middle;\n",
       "    }\n",
       "\n",
       "    .dataframe tbody tr th {\n",
       "        vertical-align: top;\n",
       "    }\n",
       "\n",
       "    .dataframe thead th {\n",
       "        text-align: right;\n",
       "    }\n",
       "</style>\n",
       "<table border=\"1\" class=\"dataframe\">\n",
       "  <thead>\n",
       "    <tr style=\"text-align: right;\">\n",
       "      <th></th>\n",
       "      <th>Month</th>\n",
       "      <th>WeekOfMonth</th>\n",
       "      <th>DayOfWeek</th>\n",
       "      <th>Make</th>\n",
       "      <th>AccidentArea</th>\n",
       "      <th>DayOfWeekClaimed</th>\n",
       "      <th>MonthClaimed</th>\n",
       "      <th>WeekOfMonthClaimed</th>\n",
       "      <th>Sex</th>\n",
       "      <th>MaritalStatus</th>\n",
       "      <th>...</th>\n",
       "      <th>AgeOfVehicle</th>\n",
       "      <th>AgeOfPolicyHolder</th>\n",
       "      <th>PoliceReportFiled</th>\n",
       "      <th>WitnessPresent</th>\n",
       "      <th>AgentType</th>\n",
       "      <th>NumberOfSuppliments</th>\n",
       "      <th>AddressChange_Claim</th>\n",
       "      <th>NumberOfCars</th>\n",
       "      <th>Year</th>\n",
       "      <th>BasePolicy</th>\n",
       "    </tr>\n",
       "  </thead>\n",
       "  <tbody>\n",
       "    <tr>\n",
       "      <th>0</th>\n",
       "      <td>Dec</td>\n",
       "      <td>5</td>\n",
       "      <td>Wednesday</td>\n",
       "      <td>Honda</td>\n",
       "      <td>Urban</td>\n",
       "      <td>Weekday</td>\n",
       "      <td>Jan</td>\n",
       "      <td>First</td>\n",
       "      <td>Female</td>\n",
       "      <td>Single</td>\n",
       "      <td>...</td>\n",
       "      <td>3</td>\n",
       "      <td>21 to 30</td>\n",
       "      <td>No</td>\n",
       "      <td>No</td>\n",
       "      <td>External</td>\n",
       "      <td>none</td>\n",
       "      <td>1 year</td>\n",
       "      <td>3 to 4</td>\n",
       "      <td>1994</td>\n",
       "      <td>Liability</td>\n",
       "    </tr>\n",
       "    <tr>\n",
       "      <th>1</th>\n",
       "      <td>Jan</td>\n",
       "      <td>3</td>\n",
       "      <td>Wednesday</td>\n",
       "      <td>Honda</td>\n",
       "      <td>Urban</td>\n",
       "      <td>Weekday</td>\n",
       "      <td>Jan</td>\n",
       "      <td>Fourth</td>\n",
       "      <td>Male</td>\n",
       "      <td>Single</td>\n",
       "      <td>...</td>\n",
       "      <td>6</td>\n",
       "      <td>31 to 40</td>\n",
       "      <td>Yes</td>\n",
       "      <td>No</td>\n",
       "      <td>External</td>\n",
       "      <td>none</td>\n",
       "      <td>no change</td>\n",
       "      <td>1 vehicle</td>\n",
       "      <td>1994</td>\n",
       "      <td>Collision</td>\n",
       "    </tr>\n",
       "    <tr>\n",
       "      <th>2</th>\n",
       "      <td>Oct</td>\n",
       "      <td>5</td>\n",
       "      <td>Friday</td>\n",
       "      <td>Honda</td>\n",
       "      <td>Urban</td>\n",
       "      <td>Weekday</td>\n",
       "      <td>Nov</td>\n",
       "      <td>Second</td>\n",
       "      <td>Male</td>\n",
       "      <td>Married</td>\n",
       "      <td>...</td>\n",
       "      <td>7</td>\n",
       "      <td>41 to 50</td>\n",
       "      <td>No</td>\n",
       "      <td>No</td>\n",
       "      <td>External</td>\n",
       "      <td>none</td>\n",
       "      <td>no change</td>\n",
       "      <td>1 vehicle</td>\n",
       "      <td>1994</td>\n",
       "      <td>Collision</td>\n",
       "    </tr>\n",
       "    <tr>\n",
       "      <th>3</th>\n",
       "      <td>Jun</td>\n",
       "      <td>2</td>\n",
       "      <td>Saturday</td>\n",
       "      <td>Toyota</td>\n",
       "      <td>Rural</td>\n",
       "      <td>Weekday</td>\n",
       "      <td>Jul</td>\n",
       "      <td>First</td>\n",
       "      <td>Male</td>\n",
       "      <td>Married</td>\n",
       "      <td>...</td>\n",
       "      <td>8</td>\n",
       "      <td>51 to 65</td>\n",
       "      <td>Yes</td>\n",
       "      <td>No</td>\n",
       "      <td>External</td>\n",
       "      <td>more than 5</td>\n",
       "      <td>no change</td>\n",
       "      <td>1 vehicle</td>\n",
       "      <td>1994</td>\n",
       "      <td>Liability</td>\n",
       "    </tr>\n",
       "    <tr>\n",
       "      <th>4</th>\n",
       "      <td>Jan</td>\n",
       "      <td>5</td>\n",
       "      <td>Monday</td>\n",
       "      <td>Honda</td>\n",
       "      <td>Urban</td>\n",
       "      <td>Weekday</td>\n",
       "      <td>Feb</td>\n",
       "      <td>Second</td>\n",
       "      <td>Female</td>\n",
       "      <td>Single</td>\n",
       "      <td>...</td>\n",
       "      <td>5</td>\n",
       "      <td>31 to 40</td>\n",
       "      <td>No</td>\n",
       "      <td>No</td>\n",
       "      <td>External</td>\n",
       "      <td>none</td>\n",
       "      <td>no change</td>\n",
       "      <td>1 vehicle</td>\n",
       "      <td>1994</td>\n",
       "      <td>Collision</td>\n",
       "    </tr>\n",
       "  </tbody>\n",
       "</table>\n",
       "<p>5 rows × 33 columns</p>\n",
       "</div>"
      ],
      "text/plain": [
       "  Month  WeekOfMonth  DayOfWeek    Make AccidentArea DayOfWeekClaimed  \\\n",
       "0   Dec            5  Wednesday   Honda        Urban          Weekday   \n",
       "1   Jan            3  Wednesday   Honda        Urban          Weekday   \n",
       "2   Oct            5     Friday   Honda        Urban          Weekday   \n",
       "3   Jun            2   Saturday  Toyota        Rural          Weekday   \n",
       "4   Jan            5     Monday   Honda        Urban          Weekday   \n",
       "\n",
       "  MonthClaimed WeekOfMonthClaimed     Sex MaritalStatus  ...  AgeOfVehicle  \\\n",
       "0          Jan              First  Female        Single  ...             3   \n",
       "1          Jan             Fourth    Male        Single  ...             6   \n",
       "2          Nov             Second    Male       Married  ...             7   \n",
       "3          Jul              First    Male       Married  ...             8   \n",
       "4          Feb             Second  Female        Single  ...             5   \n",
       "\n",
       "  AgeOfPolicyHolder PoliceReportFiled WitnessPresent AgentType  \\\n",
       "0          21 to 30                No             No  External   \n",
       "1          31 to 40               Yes             No  External   \n",
       "2          41 to 50                No             No  External   \n",
       "3          51 to 65               Yes             No  External   \n",
       "4          31 to 40                No             No  External   \n",
       "\n",
       "   NumberOfSuppliments  AddressChange_Claim  NumberOfCars  Year  BasePolicy  \n",
       "0                 none               1 year        3 to 4  1994   Liability  \n",
       "1                 none            no change     1 vehicle  1994   Collision  \n",
       "2                 none            no change     1 vehicle  1994   Collision  \n",
       "3          more than 5            no change     1 vehicle  1994   Liability  \n",
       "4                 none            no change     1 vehicle  1994   Collision  \n",
       "\n",
       "[5 rows x 33 columns]"
      ]
     },
     "execution_count": 18,
     "metadata": {},
     "output_type": "execute_result"
    }
   ],
   "source": [
    "# Set age of new vehicles to '1' and vehicles over 7 years old to '8'\n",
    "oracle_data.loc[oracle_data['AgeOfVehicle'] == 'new', 'AgeOfVehicle'] = '1'\n",
    "oracle_data.loc[oracle_data['AgeOfVehicle'] == 'more than 7', 'AgeOfVehicle'] = '8'\n",
    "# Remove any non-digit character\n",
    "oracle_data['AgeOfVehicle'].replace(\"\\\\D\",\"\", regex=True, inplace=True)\n",
    "# and convert to integer type\n",
    "oracle_data['AgeOfVehicle'] = oracle_data['AgeOfVehicle'].astype('int')\n",
    "oracle_data.head()"
   ]
  },
  {
   "cell_type": "code",
   "execution_count": 19,
   "id": "1e5502ba-f36b-4ba5-9667-5915d0a1a221",
   "metadata": {},
   "outputs": [
    {
     "data": {
      "text/html": [
       "<div>\n",
       "<style scoped>\n",
       "    .dataframe tbody tr th:only-of-type {\n",
       "        vertical-align: middle;\n",
       "    }\n",
       "\n",
       "    .dataframe tbody tr th {\n",
       "        vertical-align: top;\n",
       "    }\n",
       "\n",
       "    .dataframe thead th {\n",
       "        text-align: right;\n",
       "    }\n",
       "</style>\n",
       "<table border=\"1\" class=\"dataframe\">\n",
       "  <thead>\n",
       "    <tr style=\"text-align: right;\">\n",
       "      <th></th>\n",
       "      <th>AccidentArea</th>\n",
       "      <th>DayOfWeekClaimed</th>\n",
       "      <th>MonthClaimed</th>\n",
       "      <th>WeekOfMonthClaimed</th>\n",
       "      <th>Sex</th>\n",
       "      <th>MaritalStatus</th>\n",
       "      <th>Fault</th>\n",
       "      <th>VehicleCategory</th>\n",
       "      <th>VehiclePrice</th>\n",
       "      <th>FraudFound_P</th>\n",
       "      <th>...</th>\n",
       "      <th>DriverRating</th>\n",
       "      <th>PastNumberOfClaims</th>\n",
       "      <th>AgeOfVehicle</th>\n",
       "      <th>AgeOfPolicyHolder</th>\n",
       "      <th>PoliceReportFiled</th>\n",
       "      <th>WitnessPresent</th>\n",
       "      <th>AgentType</th>\n",
       "      <th>AddressChange_Claim</th>\n",
       "      <th>NumberOfCars</th>\n",
       "      <th>BasePolicy</th>\n",
       "    </tr>\n",
       "  </thead>\n",
       "  <tbody>\n",
       "    <tr>\n",
       "      <th>0</th>\n",
       "      <td>Urban</td>\n",
       "      <td>Weekday</td>\n",
       "      <td>Jan</td>\n",
       "      <td>First</td>\n",
       "      <td>Female</td>\n",
       "      <td>Single</td>\n",
       "      <td>Policy Holder</td>\n",
       "      <td>Sport</td>\n",
       "      <td>more than 69000</td>\n",
       "      <td>0</td>\n",
       "      <td>...</td>\n",
       "      <td>1</td>\n",
       "      <td>none</td>\n",
       "      <td>3</td>\n",
       "      <td>21 to 30</td>\n",
       "      <td>No</td>\n",
       "      <td>No</td>\n",
       "      <td>External</td>\n",
       "      <td>1 year</td>\n",
       "      <td>3 to 4</td>\n",
       "      <td>Liability</td>\n",
       "    </tr>\n",
       "    <tr>\n",
       "      <th>1</th>\n",
       "      <td>Urban</td>\n",
       "      <td>Weekday</td>\n",
       "      <td>Jan</td>\n",
       "      <td>Fourth</td>\n",
       "      <td>Male</td>\n",
       "      <td>Single</td>\n",
       "      <td>Policy Holder</td>\n",
       "      <td>Sport</td>\n",
       "      <td>more than 69000</td>\n",
       "      <td>0</td>\n",
       "      <td>...</td>\n",
       "      <td>4</td>\n",
       "      <td>none</td>\n",
       "      <td>6</td>\n",
       "      <td>31 to 40</td>\n",
       "      <td>Yes</td>\n",
       "      <td>No</td>\n",
       "      <td>External</td>\n",
       "      <td>no change</td>\n",
       "      <td>1 vehicle</td>\n",
       "      <td>Collision</td>\n",
       "    </tr>\n",
       "    <tr>\n",
       "      <th>2</th>\n",
       "      <td>Urban</td>\n",
       "      <td>Weekday</td>\n",
       "      <td>Nov</td>\n",
       "      <td>Second</td>\n",
       "      <td>Male</td>\n",
       "      <td>Married</td>\n",
       "      <td>Policy Holder</td>\n",
       "      <td>Sport</td>\n",
       "      <td>more than 69000</td>\n",
       "      <td>0</td>\n",
       "      <td>...</td>\n",
       "      <td>3</td>\n",
       "      <td>1</td>\n",
       "      <td>7</td>\n",
       "      <td>41 to 50</td>\n",
       "      <td>No</td>\n",
       "      <td>No</td>\n",
       "      <td>External</td>\n",
       "      <td>no change</td>\n",
       "      <td>1 vehicle</td>\n",
       "      <td>Collision</td>\n",
       "    </tr>\n",
       "    <tr>\n",
       "      <th>3</th>\n",
       "      <td>Rural</td>\n",
       "      <td>Weekday</td>\n",
       "      <td>Jul</td>\n",
       "      <td>First</td>\n",
       "      <td>Male</td>\n",
       "      <td>Married</td>\n",
       "      <td>Third Party</td>\n",
       "      <td>Sport</td>\n",
       "      <td>20000 to 29000</td>\n",
       "      <td>0</td>\n",
       "      <td>...</td>\n",
       "      <td>2</td>\n",
       "      <td>1</td>\n",
       "      <td>8</td>\n",
       "      <td>51 to 65</td>\n",
       "      <td>Yes</td>\n",
       "      <td>No</td>\n",
       "      <td>External</td>\n",
       "      <td>no change</td>\n",
       "      <td>1 vehicle</td>\n",
       "      <td>Liability</td>\n",
       "    </tr>\n",
       "    <tr>\n",
       "      <th>4</th>\n",
       "      <td>Urban</td>\n",
       "      <td>Weekday</td>\n",
       "      <td>Feb</td>\n",
       "      <td>Second</td>\n",
       "      <td>Female</td>\n",
       "      <td>Single</td>\n",
       "      <td>Third Party</td>\n",
       "      <td>Sport</td>\n",
       "      <td>more than 69000</td>\n",
       "      <td>0</td>\n",
       "      <td>...</td>\n",
       "      <td>1</td>\n",
       "      <td>none</td>\n",
       "      <td>5</td>\n",
       "      <td>31 to 40</td>\n",
       "      <td>No</td>\n",
       "      <td>No</td>\n",
       "      <td>External</td>\n",
       "      <td>no change</td>\n",
       "      <td>1 vehicle</td>\n",
       "      <td>Collision</td>\n",
       "    </tr>\n",
       "  </tbody>\n",
       "</table>\n",
       "<p>5 rows × 21 columns</p>\n",
       "</div>"
      ],
      "text/plain": [
       "  AccidentArea DayOfWeekClaimed MonthClaimed WeekOfMonthClaimed     Sex  \\\n",
       "0        Urban          Weekday          Jan              First  Female   \n",
       "1        Urban          Weekday          Jan             Fourth    Male   \n",
       "2        Urban          Weekday          Nov             Second    Male   \n",
       "3        Rural          Weekday          Jul              First    Male   \n",
       "4        Urban          Weekday          Feb             Second  Female   \n",
       "\n",
       "  MaritalStatus          Fault VehicleCategory     VehiclePrice  FraudFound_P  \\\n",
       "0        Single  Policy Holder           Sport  more than 69000             0   \n",
       "1        Single  Policy Holder           Sport  more than 69000             0   \n",
       "2       Married  Policy Holder           Sport  more than 69000             0   \n",
       "3       Married    Third Party           Sport   20000 to 29000             0   \n",
       "4        Single    Third Party           Sport  more than 69000             0   \n",
       "\n",
       "   ...  DriverRating  PastNumberOfClaims AgeOfVehicle  AgeOfPolicyHolder  \\\n",
       "0  ...             1                none            3           21 to 30   \n",
       "1  ...             4                none            6           31 to 40   \n",
       "2  ...             3                   1            7           41 to 50   \n",
       "3  ...             2                   1            8           51 to 65   \n",
       "4  ...             1                none            5           31 to 40   \n",
       "\n",
       "  PoliceReportFiled WitnessPresent AgentType AddressChange_Claim NumberOfCars  \\\n",
       "0                No             No  External              1 year       3 to 4   \n",
       "1               Yes             No  External           no change    1 vehicle   \n",
       "2                No             No  External           no change    1 vehicle   \n",
       "3               Yes             No  External           no change    1 vehicle   \n",
       "4                No             No  External           no change    1 vehicle   \n",
       "\n",
       "  BasePolicy  \n",
       "0  Liability  \n",
       "1  Collision  \n",
       "2  Collision  \n",
       "3  Liability  \n",
       "4  Collision  \n",
       "\n",
       "[5 rows x 21 columns]"
      ]
     },
     "execution_count": 19,
     "metadata": {},
     "output_type": "execute_result"
    }
   ],
   "source": [
    "# Drop columns we don't have enough informnation about or need\n",
    "oracle_data = oracle_data.drop(columns=['PolicyNumber', 'RepNumber', 'Days_Policy_Accident',\n",
    "       'Days_Policy_Claim', 'NumberOfSuppliments','Make', 'Age', 'PolicyType',\n",
    "                                        'Month', 'WeekOfMonth', 'DayOfWeek', 'Year'])\n",
    "oracle_data.head()"
   ]
  },
  {
   "cell_type": "code",
   "execution_count": 20,
   "id": "86568f3a-142a-4222-a46e-77dd0a8b0dcf",
   "metadata": {},
   "outputs": [
    {
     "name": "stdout",
     "output_type": "stream",
     "text": [
      "<class 'pandas.core.frame.DataFrame'>\n",
      "Int64Index: 15419 entries, 0 to 15419\n",
      "Data columns (total 21 columns):\n",
      " #   Column               Non-Null Count  Dtype \n",
      "---  ------               --------------  ----- \n",
      " 0   AccidentArea         15419 non-null  object\n",
      " 1   DayOfWeekClaimed     15419 non-null  object\n",
      " 2   MonthClaimed         15419 non-null  object\n",
      " 3   WeekOfMonthClaimed   15419 non-null  object\n",
      " 4   Sex                  15419 non-null  object\n",
      " 5   MaritalStatus        15419 non-null  object\n",
      " 6   Fault                15419 non-null  object\n",
      " 7   VehicleCategory      15419 non-null  object\n",
      " 8   VehiclePrice         15419 non-null  object\n",
      " 9   FraudFound_P         15419 non-null  int64 \n",
      " 10  Deductible           15419 non-null  int64 \n",
      " 11  DriverRating         15419 non-null  int64 \n",
      " 12  PastNumberOfClaims   15419 non-null  object\n",
      " 13  AgeOfVehicle         15419 non-null  int32 \n",
      " 14  AgeOfPolicyHolder    15419 non-null  object\n",
      " 15  PoliceReportFiled    15419 non-null  object\n",
      " 16  WitnessPresent       15419 non-null  object\n",
      " 17  AgentType            15419 non-null  object\n",
      " 18  AddressChange_Claim  15419 non-null  object\n",
      " 19  NumberOfCars         15419 non-null  object\n",
      " 20  BasePolicy           15419 non-null  object\n",
      "dtypes: int32(1), int64(3), object(17)\n",
      "memory usage: 2.5+ MB\n"
     ]
    }
   ],
   "source": [
    "#View Column types\n",
    "oracle_data.info()"
   ]
  },
  {
   "cell_type": "code",
   "execution_count": 21,
   "id": "0eebf275-6d88-43c3-9949-aa4c35879dab",
   "metadata": {},
   "outputs": [],
   "source": [
    "# Create a OneHotEncoder instance\n",
    "enc = OneHotEncoder(sparse=False)"
   ]
  },
  {
   "cell_type": "code",
   "execution_count": 22,
   "id": "7a8859a4-a2f1-4899-854c-b7195dc19760",
   "metadata": {},
   "outputs": [],
   "source": [
    "# Create a list of the columns with categorical variables\n",
    "categorical_variables = ['AccidentArea', 'Sex', 'MaritalStatus', 'Fault', 'VehicleCategory', 'VehiclePrice', \n",
    "                        'PastNumberOfClaims', 'AgeOfPolicyHolder', 'PoliceReportFiled', 'WitnessPresent', \n",
    "                        'AgentType', 'AddressChange_Claim', 'NumberOfCars', 'BasePolicy', 'DayOfWeekClaimed', \n",
    "                        'MonthClaimed', 'WeekOfMonthClaimed']\n",
    "\n",
    "# Use the fit_transform method from the OneHotEncoder to encode the categorical variables\n",
    "encoded_data = enc.fit_transform(oracle_data[categorical_variables])"
   ]
  },
  {
   "cell_type": "code",
   "execution_count": 23,
   "id": "bdff5fed-875c-4a6c-8d95-a2a0b4ffc5e0",
   "metadata": {},
   "outputs": [
    {
     "data": {
      "text/html": [
       "<div>\n",
       "<style scoped>\n",
       "    .dataframe tbody tr th:only-of-type {\n",
       "        vertical-align: middle;\n",
       "    }\n",
       "\n",
       "    .dataframe tbody tr th {\n",
       "        vertical-align: top;\n",
       "    }\n",
       "\n",
       "    .dataframe thead th {\n",
       "        text-align: right;\n",
       "    }\n",
       "</style>\n",
       "<table border=\"1\" class=\"dataframe\">\n",
       "  <thead>\n",
       "    <tr style=\"text-align: right;\">\n",
       "      <th></th>\n",
       "      <th>AccidentArea_Rural</th>\n",
       "      <th>AccidentArea_Urban</th>\n",
       "      <th>Sex_Female</th>\n",
       "      <th>Sex_Male</th>\n",
       "      <th>MaritalStatus_Divorced</th>\n",
       "      <th>MaritalStatus_Married</th>\n",
       "      <th>MaritalStatus_Single</th>\n",
       "      <th>MaritalStatus_Widow</th>\n",
       "      <th>Fault_Policy Holder</th>\n",
       "      <th>Fault_Third Party</th>\n",
       "      <th>...</th>\n",
       "      <th>MonthClaimed_Mar</th>\n",
       "      <th>MonthClaimed_May</th>\n",
       "      <th>MonthClaimed_Nov</th>\n",
       "      <th>MonthClaimed_Oct</th>\n",
       "      <th>MonthClaimed_Sep</th>\n",
       "      <th>WeekOfMonthClaimed_Fifth</th>\n",
       "      <th>WeekOfMonthClaimed_First</th>\n",
       "      <th>WeekOfMonthClaimed_Fourth</th>\n",
       "      <th>WeekOfMonthClaimed_Second</th>\n",
       "      <th>WeekOfMonthClaimed_Third</th>\n",
       "    </tr>\n",
       "  </thead>\n",
       "  <tbody>\n",
       "    <tr>\n",
       "      <th>0</th>\n",
       "      <td>0.0</td>\n",
       "      <td>1.0</td>\n",
       "      <td>1.0</td>\n",
       "      <td>0.0</td>\n",
       "      <td>0.0</td>\n",
       "      <td>0.0</td>\n",
       "      <td>1.0</td>\n",
       "      <td>0.0</td>\n",
       "      <td>1.0</td>\n",
       "      <td>0.0</td>\n",
       "      <td>...</td>\n",
       "      <td>0.0</td>\n",
       "      <td>0.0</td>\n",
       "      <td>0.0</td>\n",
       "      <td>0.0</td>\n",
       "      <td>0.0</td>\n",
       "      <td>0.0</td>\n",
       "      <td>1.0</td>\n",
       "      <td>0.0</td>\n",
       "      <td>0.0</td>\n",
       "      <td>0.0</td>\n",
       "    </tr>\n",
       "    <tr>\n",
       "      <th>1</th>\n",
       "      <td>0.0</td>\n",
       "      <td>1.0</td>\n",
       "      <td>0.0</td>\n",
       "      <td>1.0</td>\n",
       "      <td>0.0</td>\n",
       "      <td>0.0</td>\n",
       "      <td>1.0</td>\n",
       "      <td>0.0</td>\n",
       "      <td>1.0</td>\n",
       "      <td>0.0</td>\n",
       "      <td>...</td>\n",
       "      <td>0.0</td>\n",
       "      <td>0.0</td>\n",
       "      <td>0.0</td>\n",
       "      <td>0.0</td>\n",
       "      <td>0.0</td>\n",
       "      <td>0.0</td>\n",
       "      <td>0.0</td>\n",
       "      <td>1.0</td>\n",
       "      <td>0.0</td>\n",
       "      <td>0.0</td>\n",
       "    </tr>\n",
       "    <tr>\n",
       "      <th>2</th>\n",
       "      <td>0.0</td>\n",
       "      <td>1.0</td>\n",
       "      <td>0.0</td>\n",
       "      <td>1.0</td>\n",
       "      <td>0.0</td>\n",
       "      <td>1.0</td>\n",
       "      <td>0.0</td>\n",
       "      <td>0.0</td>\n",
       "      <td>1.0</td>\n",
       "      <td>0.0</td>\n",
       "      <td>...</td>\n",
       "      <td>0.0</td>\n",
       "      <td>0.0</td>\n",
       "      <td>1.0</td>\n",
       "      <td>0.0</td>\n",
       "      <td>0.0</td>\n",
       "      <td>0.0</td>\n",
       "      <td>0.0</td>\n",
       "      <td>0.0</td>\n",
       "      <td>1.0</td>\n",
       "      <td>0.0</td>\n",
       "    </tr>\n",
       "    <tr>\n",
       "      <th>3</th>\n",
       "      <td>1.0</td>\n",
       "      <td>0.0</td>\n",
       "      <td>0.0</td>\n",
       "      <td>1.0</td>\n",
       "      <td>0.0</td>\n",
       "      <td>1.0</td>\n",
       "      <td>0.0</td>\n",
       "      <td>0.0</td>\n",
       "      <td>0.0</td>\n",
       "      <td>1.0</td>\n",
       "      <td>...</td>\n",
       "      <td>0.0</td>\n",
       "      <td>0.0</td>\n",
       "      <td>0.0</td>\n",
       "      <td>0.0</td>\n",
       "      <td>0.0</td>\n",
       "      <td>0.0</td>\n",
       "      <td>1.0</td>\n",
       "      <td>0.0</td>\n",
       "      <td>0.0</td>\n",
       "      <td>0.0</td>\n",
       "    </tr>\n",
       "    <tr>\n",
       "      <th>4</th>\n",
       "      <td>0.0</td>\n",
       "      <td>1.0</td>\n",
       "      <td>1.0</td>\n",
       "      <td>0.0</td>\n",
       "      <td>0.0</td>\n",
       "      <td>0.0</td>\n",
       "      <td>1.0</td>\n",
       "      <td>0.0</td>\n",
       "      <td>0.0</td>\n",
       "      <td>1.0</td>\n",
       "      <td>...</td>\n",
       "      <td>0.0</td>\n",
       "      <td>0.0</td>\n",
       "      <td>0.0</td>\n",
       "      <td>0.0</td>\n",
       "      <td>0.0</td>\n",
       "      <td>0.0</td>\n",
       "      <td>0.0</td>\n",
       "      <td>0.0</td>\n",
       "      <td>1.0</td>\n",
       "      <td>0.0</td>\n",
       "    </tr>\n",
       "  </tbody>\n",
       "</table>\n",
       "<p>5 rows × 67 columns</p>\n",
       "</div>"
      ],
      "text/plain": [
       "   AccidentArea_Rural  AccidentArea_Urban  Sex_Female  Sex_Male  \\\n",
       "0                 0.0                 1.0         1.0       0.0   \n",
       "1                 0.0                 1.0         0.0       1.0   \n",
       "2                 0.0                 1.0         0.0       1.0   \n",
       "3                 1.0                 0.0         0.0       1.0   \n",
       "4                 0.0                 1.0         1.0       0.0   \n",
       "\n",
       "   MaritalStatus_Divorced  MaritalStatus_Married  MaritalStatus_Single  \\\n",
       "0                     0.0                    0.0                   1.0   \n",
       "1                     0.0                    0.0                   1.0   \n",
       "2                     0.0                    1.0                   0.0   \n",
       "3                     0.0                    1.0                   0.0   \n",
       "4                     0.0                    0.0                   1.0   \n",
       "\n",
       "   MaritalStatus_Widow  Fault_Policy Holder  Fault_Third Party  ...  \\\n",
       "0                  0.0                  1.0                0.0  ...   \n",
       "1                  0.0                  1.0                0.0  ...   \n",
       "2                  0.0                  1.0                0.0  ...   \n",
       "3                  0.0                  0.0                1.0  ...   \n",
       "4                  0.0                  0.0                1.0  ...   \n",
       "\n",
       "   MonthClaimed_Mar  MonthClaimed_May  MonthClaimed_Nov  MonthClaimed_Oct  \\\n",
       "0               0.0               0.0               0.0               0.0   \n",
       "1               0.0               0.0               0.0               0.0   \n",
       "2               0.0               0.0               1.0               0.0   \n",
       "3               0.0               0.0               0.0               0.0   \n",
       "4               0.0               0.0               0.0               0.0   \n",
       "\n",
       "   MonthClaimed_Sep  WeekOfMonthClaimed_Fifth  WeekOfMonthClaimed_First  \\\n",
       "0               0.0                       0.0                       1.0   \n",
       "1               0.0                       0.0                       0.0   \n",
       "2               0.0                       0.0                       0.0   \n",
       "3               0.0                       0.0                       1.0   \n",
       "4               0.0                       0.0                       0.0   \n",
       "\n",
       "   WeekOfMonthClaimed_Fourth  WeekOfMonthClaimed_Second  \\\n",
       "0                        0.0                        0.0   \n",
       "1                        1.0                        0.0   \n",
       "2                        0.0                        1.0   \n",
       "3                        0.0                        0.0   \n",
       "4                        0.0                        1.0   \n",
       "\n",
       "   WeekOfMonthClaimed_Third  \n",
       "0                       0.0  \n",
       "1                       0.0  \n",
       "2                       0.0  \n",
       "3                       0.0  \n",
       "4                       0.0  \n",
       "\n",
       "[5 rows x 67 columns]"
      ]
     },
     "execution_count": 23,
     "metadata": {},
     "output_type": "execute_result"
    }
   ],
   "source": [
    "# Create a DataFrame with the encoded variables\n",
    "encoded_variables = pd.DataFrame(encoded_data,\n",
    "    columns = enc.get_feature_names_out(categorical_variables))\n",
    "\n",
    "encoded_variables.head()"
   ]
  },
  {
   "cell_type": "code",
   "execution_count": 24,
   "id": "fd1530e7-3e62-42bb-a91e-ad9c8f1035cb",
   "metadata": {},
   "outputs": [
    {
     "name": "stdout",
     "output_type": "stream",
     "text": [
      "<class 'pandas.core.frame.DataFrame'>\n",
      "Int64Index: 15418 entries, 0 to 15418\n",
      "Data columns (total 71 columns):\n",
      " #   Column                              Non-Null Count  Dtype  \n",
      "---  ------                              --------------  -----  \n",
      " 0   AccidentArea_Rural                  15418 non-null  float64\n",
      " 1   AccidentArea_Urban                  15418 non-null  float64\n",
      " 2   Sex_Female                          15418 non-null  float64\n",
      " 3   Sex_Male                            15418 non-null  float64\n",
      " 4   MaritalStatus_Divorced              15418 non-null  float64\n",
      " 5   MaritalStatus_Married               15418 non-null  float64\n",
      " 6   MaritalStatus_Single                15418 non-null  float64\n",
      " 7   MaritalStatus_Widow                 15418 non-null  float64\n",
      " 8   Fault_Policy Holder                 15418 non-null  float64\n",
      " 9   Fault_Third Party                   15418 non-null  float64\n",
      " 10  VehicleCategory_Sedan               15418 non-null  float64\n",
      " 11  VehicleCategory_Sport               15418 non-null  float64\n",
      " 12  VehicleCategory_Utility             15418 non-null  float64\n",
      " 13  VehiclePrice_20000 to 29000         15418 non-null  float64\n",
      " 14  VehiclePrice_30000 to 39000         15418 non-null  float64\n",
      " 15  VehiclePrice_40000 to 59000         15418 non-null  float64\n",
      " 16  VehiclePrice_60000 to 69000         15418 non-null  float64\n",
      " 17  VehiclePrice_less than 20000        15418 non-null  float64\n",
      " 18  VehiclePrice_more than 69000        15418 non-null  float64\n",
      " 19  PastNumberOfClaims_1                15418 non-null  float64\n",
      " 20  PastNumberOfClaims_2 to 4           15418 non-null  float64\n",
      " 21  PastNumberOfClaims_more than 4      15418 non-null  float64\n",
      " 22  PastNumberOfClaims_none             15418 non-null  float64\n",
      " 23  AgeOfPolicyHolder_16 to 20          15418 non-null  float64\n",
      " 24  AgeOfPolicyHolder_21 to 30          15418 non-null  float64\n",
      " 25  AgeOfPolicyHolder_31 to 40          15418 non-null  float64\n",
      " 26  AgeOfPolicyHolder_41 to 50          15418 non-null  float64\n",
      " 27  AgeOfPolicyHolder_51 to 65          15418 non-null  float64\n",
      " 28  AgeOfPolicyHolder_over 65           15418 non-null  float64\n",
      " 29  PoliceReportFiled_No                15418 non-null  float64\n",
      " 30  PoliceReportFiled_Yes               15418 non-null  float64\n",
      " 31  WitnessPresent_No                   15418 non-null  float64\n",
      " 32  WitnessPresent_Yes                  15418 non-null  float64\n",
      " 33  AgentType_External                  15418 non-null  float64\n",
      " 34  AgentType_Internal                  15418 non-null  float64\n",
      " 35  AddressChange_Claim_1 year          15418 non-null  float64\n",
      " 36  AddressChange_Claim_2 to 3 years    15418 non-null  float64\n",
      " 37  AddressChange_Claim_4 to 8 years    15418 non-null  float64\n",
      " 38  AddressChange_Claim_no change       15418 non-null  float64\n",
      " 39  AddressChange_Claim_under 6 months  15418 non-null  float64\n",
      " 40  NumberOfCars_1 vehicle              15418 non-null  float64\n",
      " 41  NumberOfCars_2 vehicles             15418 non-null  float64\n",
      " 42  NumberOfCars_3 to 4                 15418 non-null  float64\n",
      " 43  NumberOfCars_5 to 8                 15418 non-null  float64\n",
      " 44  NumberOfCars_more than 8            15418 non-null  float64\n",
      " 45  BasePolicy_All Perils               15418 non-null  float64\n",
      " 46  BasePolicy_Collision                15418 non-null  float64\n",
      " 47  BasePolicy_Liability                15418 non-null  float64\n",
      " 48  DayOfWeekClaimed_Weekday            15418 non-null  float64\n",
      " 49  DayOfWeekClaimed_Weekend            15418 non-null  float64\n",
      " 50  MonthClaimed_Apr                    15418 non-null  float64\n",
      " 51  MonthClaimed_Aug                    15418 non-null  float64\n",
      " 52  MonthClaimed_Dec                    15418 non-null  float64\n",
      " 53  MonthClaimed_Feb                    15418 non-null  float64\n",
      " 54  MonthClaimed_Jan                    15418 non-null  float64\n",
      " 55  MonthClaimed_Jul                    15418 non-null  float64\n",
      " 56  MonthClaimed_Jun                    15418 non-null  float64\n",
      " 57  MonthClaimed_Mar                    15418 non-null  float64\n",
      " 58  MonthClaimed_May                    15418 non-null  float64\n",
      " 59  MonthClaimed_Nov                    15418 non-null  float64\n",
      " 60  MonthClaimed_Oct                    15418 non-null  float64\n",
      " 61  MonthClaimed_Sep                    15418 non-null  float64\n",
      " 62  WeekOfMonthClaimed_Fifth            15418 non-null  float64\n",
      " 63  WeekOfMonthClaimed_First            15418 non-null  float64\n",
      " 64  WeekOfMonthClaimed_Fourth           15418 non-null  float64\n",
      " 65  WeekOfMonthClaimed_Second           15418 non-null  float64\n",
      " 66  WeekOfMonthClaimed_Third            15418 non-null  float64\n",
      " 67  Deductible                          15418 non-null  float64\n",
      " 68  AgeOfVehicle                        15418 non-null  float64\n",
      " 69  DriverRating                        15418 non-null  float64\n",
      " 70  FraudFound_P                        15418 non-null  float64\n",
      "dtypes: float64(71)\n",
      "memory usage: 8.5 MB\n"
     ]
    }
   ],
   "source": [
    "# Seperate the numerical columns and concat with encoded features\n",
    "numerical_variables = oracle_data[['Deductible', 'AgeOfVehicle', 'DriverRating', 'FraudFound_P']]\n",
    "encoded_oracle = pd.concat([encoded_variables, numerical_variables], axis=1)\n",
    "encoded_oracle.dropna(inplace=True)\n",
    "encoded_oracle.info()"
   ]
  },
  {
   "cell_type": "code",
   "execution_count": 25,
   "id": "23db6361-830e-4bec-b479-c9086c246754",
   "metadata": {},
   "outputs": [
    {
     "name": "stdout",
     "output_type": "stream",
     "text": [
      "<class 'pandas.core.frame.DataFrame'>\n",
      "Int64Index: 15418 entries, 0 to 15418\n",
      "Data columns (total 70 columns):\n",
      " #   Column                              Non-Null Count  Dtype  \n",
      "---  ------                              --------------  -----  \n",
      " 0   AccidentArea_Rural                  15418 non-null  float64\n",
      " 1   AccidentArea_Urban                  15418 non-null  float64\n",
      " 2   Sex_Female                          15418 non-null  float64\n",
      " 3   Sex_Male                            15418 non-null  float64\n",
      " 4   MaritalStatus_Divorced              15418 non-null  float64\n",
      " 5   MaritalStatus_Married               15418 non-null  float64\n",
      " 6   MaritalStatus_Single                15418 non-null  float64\n",
      " 7   MaritalStatus_Widow                 15418 non-null  float64\n",
      " 8   Fault_Policy Holder                 15418 non-null  float64\n",
      " 9   Fault_Third Party                   15418 non-null  float64\n",
      " 10  VehicleCategory_Sedan               15418 non-null  float64\n",
      " 11  VehicleCategory_Sport               15418 non-null  float64\n",
      " 12  VehicleCategory_Utility             15418 non-null  float64\n",
      " 13  VehiclePrice_20000 to 29000         15418 non-null  float64\n",
      " 14  VehiclePrice_30000 to 39000         15418 non-null  float64\n",
      " 15  VehiclePrice_40000 to 59000         15418 non-null  float64\n",
      " 16  VehiclePrice_60000 to 69000         15418 non-null  float64\n",
      " 17  VehiclePrice_less than 20000        15418 non-null  float64\n",
      " 18  VehiclePrice_more than 69000        15418 non-null  float64\n",
      " 19  PastNumberOfClaims_1                15418 non-null  float64\n",
      " 20  PastNumberOfClaims_2 to 4           15418 non-null  float64\n",
      " 21  PastNumberOfClaims_more than 4      15418 non-null  float64\n",
      " 22  PastNumberOfClaims_none             15418 non-null  float64\n",
      " 23  AgeOfPolicyHolder_16 to 20          15418 non-null  float64\n",
      " 24  AgeOfPolicyHolder_21 to 30          15418 non-null  float64\n",
      " 25  AgeOfPolicyHolder_31 to 40          15418 non-null  float64\n",
      " 26  AgeOfPolicyHolder_41 to 50          15418 non-null  float64\n",
      " 27  AgeOfPolicyHolder_51 to 65          15418 non-null  float64\n",
      " 28  AgeOfPolicyHolder_over 65           15418 non-null  float64\n",
      " 29  PoliceReportFiled_No                15418 non-null  float64\n",
      " 30  PoliceReportFiled_Yes               15418 non-null  float64\n",
      " 31  WitnessPresent_No                   15418 non-null  float64\n",
      " 32  WitnessPresent_Yes                  15418 non-null  float64\n",
      " 33  AgentType_External                  15418 non-null  float64\n",
      " 34  AgentType_Internal                  15418 non-null  float64\n",
      " 35  AddressChange_Claim_1 year          15418 non-null  float64\n",
      " 36  AddressChange_Claim_2 to 3 years    15418 non-null  float64\n",
      " 37  AddressChange_Claim_4 to 8 years    15418 non-null  float64\n",
      " 38  AddressChange_Claim_no change       15418 non-null  float64\n",
      " 39  AddressChange_Claim_under 6 months  15418 non-null  float64\n",
      " 40  NumberOfCars_1 vehicle              15418 non-null  float64\n",
      " 41  NumberOfCars_2 vehicles             15418 non-null  float64\n",
      " 42  NumberOfCars_3 to 4                 15418 non-null  float64\n",
      " 43  NumberOfCars_5 to 8                 15418 non-null  float64\n",
      " 44  NumberOfCars_more than 8            15418 non-null  float64\n",
      " 45  BasePolicy_All Perils               15418 non-null  float64\n",
      " 46  BasePolicy_Collision                15418 non-null  float64\n",
      " 47  BasePolicy_Liability                15418 non-null  float64\n",
      " 48  DayOfWeekClaimed_Weekday            15418 non-null  float64\n",
      " 49  DayOfWeekClaimed_Weekend            15418 non-null  float64\n",
      " 50  MonthClaimed_Apr                    15418 non-null  float64\n",
      " 51  MonthClaimed_Aug                    15418 non-null  float64\n",
      " 52  MonthClaimed_Dec                    15418 non-null  float64\n",
      " 53  MonthClaimed_Feb                    15418 non-null  float64\n",
      " 54  MonthClaimed_Jan                    15418 non-null  float64\n",
      " 55  MonthClaimed_Jul                    15418 non-null  float64\n",
      " 56  MonthClaimed_Jun                    15418 non-null  float64\n",
      " 57  MonthClaimed_Mar                    15418 non-null  float64\n",
      " 58  MonthClaimed_May                    15418 non-null  float64\n",
      " 59  MonthClaimed_Nov                    15418 non-null  float64\n",
      " 60  MonthClaimed_Oct                    15418 non-null  float64\n",
      " 61  MonthClaimed_Sep                    15418 non-null  float64\n",
      " 62  WeekOfMonthClaimed_Fifth            15418 non-null  float64\n",
      " 63  WeekOfMonthClaimed_First            15418 non-null  float64\n",
      " 64  WeekOfMonthClaimed_Fourth           15418 non-null  float64\n",
      " 65  WeekOfMonthClaimed_Second           15418 non-null  float64\n",
      " 66  WeekOfMonthClaimed_Third            15418 non-null  float64\n",
      " 67  Deductible                          15418 non-null  float64\n",
      " 68  AgeOfVehicle                        15418 non-null  float64\n",
      " 69  DriverRating                        15418 non-null  float64\n",
      "dtypes: float64(70)\n",
      "memory usage: 8.4 MB\n"
     ]
    }
   ],
   "source": [
    "# Assign X and y variables\n",
    "y = encoded_oracle['FraudFound_P']\n",
    "X = encoded_oracle.copy()\n",
    "X.drop(columns='FraudFound_P', inplace=True)\n",
    "X.info()"
   ]
  },
  {
   "cell_type": "code",
   "execution_count": 26,
   "id": "291439cc-87e1-4262-ad43-35aa7461984c",
   "metadata": {},
   "outputs": [],
   "source": [
    "# Splitting into Train and Test sets\n",
    "X_train, X_test, y_train, y_test = train_test_split(X, y, random_state=11)"
   ]
  },
  {
   "cell_type": "code",
   "execution_count": 27,
   "id": "3ab7458d-1b3c-4a90-9e86-fe21faaf4160",
   "metadata": {},
   "outputs": [
    {
     "data": {
      "text/plain": [
       "(11563, 70)"
      ]
     },
     "metadata": {},
     "output_type": "display_data"
    },
    {
     "data": {
      "text/plain": [
       "(3855, 70)"
      ]
     },
     "metadata": {},
     "output_type": "display_data"
    }
   ],
   "source": [
    "display(X_train.shape)\n",
    "display(X_test.shape)"
   ]
  },
  {
   "cell_type": "code",
   "execution_count": 28,
   "id": "d93df812-c62e-4ebf-9114-2c151d7ba2ca",
   "metadata": {},
   "outputs": [],
   "source": [
    "# Create instance for scaler\n",
    "scaler = StandardScaler()"
   ]
  },
  {
   "cell_type": "code",
   "execution_count": 29,
   "id": "1c988aa2-b238-4019-9ff5-bf82193e3a71",
   "metadata": {},
   "outputs": [],
   "source": [
    "# Fit the scaler with X training info\n",
    "X_scaler = scaler.fit(X_train)"
   ]
  },
  {
   "cell_type": "code",
   "execution_count": 30,
   "id": "c0f48dbb-14d7-4ca4-8b40-2e1b4e0bc031",
   "metadata": {},
   "outputs": [],
   "source": [
    "# Transform the X data with scaler\n",
    "X_train_scaled = X_scaler.transform(X_train)\n",
    "X_test_scaled = X_scaler.transform(X_test)"
   ]
  },
  {
   "cell_type": "code",
   "execution_count": 31,
   "id": "130777b4-6579-43b2-a566-81177fa5c5c8",
   "metadata": {},
   "outputs": [],
   "source": [
    "# Imports for Running LR Model and reports\n",
    "import matplotlib.pyplot as plt\n",
    "from sklearn.metrics import accuracy_score, classification_report\n",
    "from sklearn.metrics import confusion_matrix\n",
    "from sklearn.linear_model import LogisticRegression"
   ]
  },
  {
   "cell_type": "code",
   "execution_count": 32,
   "id": "1b5fd5b9-0520-4b67-8482-016234690999",
   "metadata": {},
   "outputs": [],
   "source": [
    "# Create model instance\n",
    "logistic_regression_model = LogisticRegression()"
   ]
  },
  {
   "cell_type": "code",
   "execution_count": 33,
   "id": "0b55c00d-b87c-4504-8128-948816a50ac5",
   "metadata": {},
   "outputs": [],
   "source": [
    "# Fit model\n",
    "lr_model = logistic_regression_model.fit(X_train_scaled, y_train)"
   ]
  },
  {
   "cell_type": "code",
   "execution_count": 34,
   "id": "4769a69e-268a-476e-a102-24c327125632",
   "metadata": {},
   "outputs": [],
   "source": [
    "# Predict for Training Values\n",
    "training_predictions = lr_model.predict(X_train_scaled)"
   ]
  },
  {
   "cell_type": "code",
   "execution_count": 45,
   "id": "128621f4-463d-4261-b3fd-279ec3f3ef80",
   "metadata": {},
   "outputs": [
    {
     "data": {
      "text/plain": [
       "array([[10868,     1],\n",
       "       [  692,     2]], dtype=int64)"
      ]
     },
     "execution_count": 45,
     "metadata": {},
     "output_type": "execute_result"
    }
   ],
   "source": [
    "# View Confusion Matrix for Model compared to Training Data\n",
    "train_conf_matrix = confusion_matrix(y_train, training_predictions)\n",
    "train_conf_matrix"
   ]
  },
  {
   "cell_type": "code",
   "execution_count": 37,
   "id": "d761b9c1-4a4b-44e8-beff-f9561608bdc4",
   "metadata": {},
   "outputs": [
    {
     "data": {
      "text/html": [
       "<div>\n",
       "<style scoped>\n",
       "    .dataframe tbody tr th:only-of-type {\n",
       "        vertical-align: middle;\n",
       "    }\n",
       "\n",
       "    .dataframe tbody tr th {\n",
       "        vertical-align: top;\n",
       "    }\n",
       "\n",
       "    .dataframe thead th {\n",
       "        text-align: right;\n",
       "    }\n",
       "</style>\n",
       "<table border=\"1\" class=\"dataframe\">\n",
       "  <thead>\n",
       "    <tr style=\"text-align: right;\">\n",
       "      <th></th>\n",
       "      <th>Predicted 0</th>\n",
       "      <th>Predicted 1</th>\n",
       "    </tr>\n",
       "  </thead>\n",
       "  <tbody>\n",
       "    <tr>\n",
       "      <th>Actual 0</th>\n",
       "      <td>10868</td>\n",
       "      <td>1</td>\n",
       "    </tr>\n",
       "    <tr>\n",
       "      <th>Actual 1</th>\n",
       "      <td>692</td>\n",
       "      <td>2</td>\n",
       "    </tr>\n",
       "  </tbody>\n",
       "</table>\n",
       "</div>"
      ],
      "text/plain": [
       "          Predicted 0  Predicted 1\n",
       "Actual 0        10868            1\n",
       "Actual 1          692            2"
      ]
     },
     "execution_count": 37,
     "metadata": {},
     "output_type": "execute_result"
    }
   ],
   "source": [
    "# Put Confusion matrix into Dataframe\n",
    "train_matrix = pd.DataFrame(train_conf_matrix, index=['Actual 0', 'Actual 1'], columns=['Predicted 0', 'Predicted 1'])\n",
    "train_matrix"
   ]
  },
  {
   "cell_type": "code",
   "execution_count": 38,
   "id": "2570869e-4dfe-486c-b282-9da1785b2dbb",
   "metadata": {},
   "outputs": [
    {
     "name": "stdout",
     "output_type": "stream",
     "text": [
      "              precision    recall  f1-score   support\n",
      "\n",
      "         0.0       0.94      1.00      0.97     10869\n",
      "         1.0       0.67      0.00      0.01       694\n",
      "\n",
      "    accuracy                           0.94     11563\n",
      "   macro avg       0.80      0.50      0.49     11563\n",
      "weighted avg       0.92      0.94      0.91     11563\n",
      "\n"
     ]
    }
   ],
   "source": [
    "# View Classification Report for Training Predictions\n",
    "print(classification_report(y_train, training_predictions))"
   ]
  },
  {
   "cell_type": "code",
   "execution_count": 39,
   "id": "c2074110-31ec-44a7-9ffb-5119e125af3a",
   "metadata": {},
   "outputs": [
    {
     "data": {
      "text/plain": [
       "array([0., 0., 0., ..., 0., 0., 0.])"
      ]
     },
     "execution_count": 39,
     "metadata": {},
     "output_type": "execute_result"
    }
   ],
   "source": [
    "# Predict for testing values\n",
    "testing_predictions = lr_model.predict(X_test_scaled)\n",
    "\n",
    "# Review the predictions\n",
    "testing_predictions"
   ]
  },
  {
   "cell_type": "code",
   "execution_count": 40,
   "id": "d6747cf2-5a5d-4ea6-a568-0de30e5a3686",
   "metadata": {},
   "outputs": [
    {
     "data": {
      "text/html": [
       "<div>\n",
       "<style scoped>\n",
       "    .dataframe tbody tr th:only-of-type {\n",
       "        vertical-align: middle;\n",
       "    }\n",
       "\n",
       "    .dataframe tbody tr th {\n",
       "        vertical-align: top;\n",
       "    }\n",
       "\n",
       "    .dataframe thead th {\n",
       "        text-align: right;\n",
       "    }\n",
       "</style>\n",
       "<table border=\"1\" class=\"dataframe\">\n",
       "  <thead>\n",
       "    <tr style=\"text-align: right;\">\n",
       "      <th></th>\n",
       "      <th>Predictions</th>\n",
       "      <th>Actual</th>\n",
       "    </tr>\n",
       "  </thead>\n",
       "  <tbody>\n",
       "    <tr>\n",
       "      <th>15235</th>\n",
       "      <td>0.0</td>\n",
       "      <td>0.0</td>\n",
       "    </tr>\n",
       "    <tr>\n",
       "      <th>11504</th>\n",
       "      <td>0.0</td>\n",
       "      <td>0.0</td>\n",
       "    </tr>\n",
       "    <tr>\n",
       "      <th>13248</th>\n",
       "      <td>0.0</td>\n",
       "      <td>0.0</td>\n",
       "    </tr>\n",
       "    <tr>\n",
       "      <th>8850</th>\n",
       "      <td>0.0</td>\n",
       "      <td>0.0</td>\n",
       "    </tr>\n",
       "    <tr>\n",
       "      <th>9655</th>\n",
       "      <td>0.0</td>\n",
       "      <td>0.0</td>\n",
       "    </tr>\n",
       "  </tbody>\n",
       "</table>\n",
       "</div>"
      ],
      "text/plain": [
       "       Predictions  Actual\n",
       "15235          0.0     0.0\n",
       "11504          0.0     0.0\n",
       "13248          0.0     0.0\n",
       "8850           0.0     0.0\n",
       "9655           0.0     0.0"
      ]
     },
     "execution_count": 40,
     "metadata": {},
     "output_type": "execute_result"
    }
   ],
   "source": [
    "# Put Testing Predictions into Dataframe\n",
    "y_test_predictions = pd.DataFrame({'Predictions':testing_predictions, 'Actual': y_test})\n",
    "y_test_predictions.head()"
   ]
  },
  {
   "cell_type": "code",
   "execution_count": 41,
   "id": "fc72ff27-b07d-4b64-a020-c5c3fe8846d4",
   "metadata": {},
   "outputs": [
    {
     "data": {
      "text/plain": [
       "array([[3627,    0],\n",
       "       [ 227,    1]], dtype=int64)"
      ]
     },
     "execution_count": 41,
     "metadata": {},
     "output_type": "execute_result"
    }
   ],
   "source": [
    "# View Confusion Matrix for Model compared to test Data\n",
    "test_conf_matrix = confusion_matrix(y_test, testing_predictions)\n",
    "test_conf_matrix"
   ]
  },
  {
   "cell_type": "code",
   "execution_count": 42,
   "id": "adcadd10-082c-4a44-a40b-1f1323a82a28",
   "metadata": {},
   "outputs": [
    {
     "data": {
      "text/html": [
       "<div>\n",
       "<style scoped>\n",
       "    .dataframe tbody tr th:only-of-type {\n",
       "        vertical-align: middle;\n",
       "    }\n",
       "\n",
       "    .dataframe tbody tr th {\n",
       "        vertical-align: top;\n",
       "    }\n",
       "\n",
       "    .dataframe thead th {\n",
       "        text-align: right;\n",
       "    }\n",
       "</style>\n",
       "<table border=\"1\" class=\"dataframe\">\n",
       "  <thead>\n",
       "    <tr style=\"text-align: right;\">\n",
       "      <th></th>\n",
       "      <th>Predicted 0</th>\n",
       "      <th>Predicted 1</th>\n",
       "    </tr>\n",
       "  </thead>\n",
       "  <tbody>\n",
       "    <tr>\n",
       "      <th>Actual 0</th>\n",
       "      <td>3627</td>\n",
       "      <td>0</td>\n",
       "    </tr>\n",
       "    <tr>\n",
       "      <th>Actual 1</th>\n",
       "      <td>227</td>\n",
       "      <td>1</td>\n",
       "    </tr>\n",
       "  </tbody>\n",
       "</table>\n",
       "</div>"
      ],
      "text/plain": [
       "          Predicted 0  Predicted 1\n",
       "Actual 0         3627            0\n",
       "Actual 1          227            1"
      ]
     },
     "execution_count": 42,
     "metadata": {},
     "output_type": "execute_result"
    }
   ],
   "source": [
    "# Put Confusion matrix into Dataframe\n",
    "test_matrix = pd.DataFrame(test_conf_matrix, index=['Actual 0', 'Actual 1'], columns=['Predicted 0', 'Predicted 1'])\n",
    "test_matrix"
   ]
  },
  {
   "cell_type": "code",
   "execution_count": 43,
   "id": "cc77faa5-ed65-46ed-b9a4-787ed8b009c9",
   "metadata": {},
   "outputs": [
    {
     "name": "stdout",
     "output_type": "stream",
     "text": [
      "              precision    recall  f1-score   support\n",
      "\n",
      "         0.0       0.94      1.00      0.97      3627\n",
      "         1.0       1.00      0.00      0.01       228\n",
      "\n",
      "    accuracy                           0.94      3855\n",
      "   macro avg       0.97      0.50      0.49      3855\n",
      "weighted avg       0.94      0.94      0.91      3855\n",
      "\n"
     ]
    }
   ],
   "source": [
    "# View Classification Report for Testing Predictions\n",
    "print(classification_report(y_test, testing_predictions))"
   ]
  },
  {
   "cell_type": "code",
   "execution_count": 44,
   "id": "0eab4d8d-277b-4436-b3e2-a9905b2066d6",
   "metadata": {},
   "outputs": [
    {
     "name": "stdout",
     "output_type": "stream",
     "text": [
      "Training Data Accuracy Score: 0.9400674565424197\n",
      "Testing Data Accuracy Score: 0.9411154345006485\n"
     ]
    }
   ],
   "source": [
    "# View Model Accuracy Scores\n",
    "print(f'Training Data Accuracy Score: {lr_model.score(X_train_scaled, y_train)}')\n",
    "print(f'Testing Data Accuracy Score: {lr_model.score(X_test_scaled, y_test)}')"
   ]
  },
  {
   "cell_type": "markdown",
   "id": "56c61f17-363f-4b69-a1cc-0a693710ccf5",
   "metadata": {},
   "source": [
    "## k-Nearest Neighbors Algorithm\n",
    "* This algorithm attempt to predict a test sample class by looking at the k training samples that are nearest (in distance) to the test sample\n",
    "* The default value for the hyperparameter (k) is 5\n",
    "* If necessary, we'll use hyperparameter tuning, that is, experimenting with a few values of k, to choose the value that improves the performance of  algorithm"
   ]
  },
  {
   "cell_type": "code",
   "execution_count": 50,
   "id": "95747a92-e432-4a29-9205-9dcfe2cb6c6a",
   "metadata": {},
   "outputs": [
    {
     "data": {
      "text/plain": [
       "KNeighborsClassifier(n_neighbors=2)"
      ]
     },
     "execution_count": 50,
     "metadata": {},
     "output_type": "execute_result"
    }
   ],
   "source": [
    "# Creating the KNN Model\n",
    "# Instantiate the model with k = 2 neighbors\n",
    "# We first ran with its default k value, which is n_neighbors=5 neighbors, and did not like the result\n",
    "knn = KNeighborsClassifier(n_neighbors=2)\n",
    "# Train the model\n",
    "knn.fit(X_train_scaled, y_train)"
   ]
  },
  {
   "cell_type": "code",
   "execution_count": 51,
   "id": "25f8bfed-9346-4e4d-841c-5d510102efad",
   "metadata": {},
   "outputs": [],
   "source": [
    "# Create predictions\n",
    "y_pred = knn.predict(X_test_scaled)"
   ]
  },
  {
   "cell_type": "code",
   "execution_count": 52,
   "id": "e0b0c792-c340-4167-895e-365c23753554",
   "metadata": {},
   "outputs": [
    {
     "name": "stdout",
     "output_type": "stream",
     "text": [
      "93.77%\n"
     ]
    }
   ],
   "source": [
    "# Print the prediction accuracy\n",
    "print(f'{knn.score(X_test_scaled, y_test):.2%}')"
   ]
  },
  {
   "cell_type": "code",
   "execution_count": 53,
   "id": "2e8dd98c-64e9-47e7-8ca3-f01e6802f29f",
   "metadata": {},
   "outputs": [
    {
     "data": {
      "text/plain": [
       "array([[3612,  225],\n",
       "       [  15,    3]], dtype=int64)"
      ]
     },
     "execution_count": 53,
     "metadata": {},
     "output_type": "execute_result"
    }
   ],
   "source": [
    "# Print confusion matrix\n",
    "confusion_matrix(y_pred,y_test)"
   ]
  },
  {
   "cell_type": "code",
   "execution_count": 54,
   "id": "693d0ee3-6106-43b7-b168-a8d09c920db9",
   "metadata": {},
   "outputs": [
    {
     "name": "stdout",
     "output_type": "stream",
     "text": [
      "              precision    recall  f1-score   support\n",
      "\n",
      "         0.0       1.00      0.94      0.97      3837\n",
      "         1.0       0.01      0.17      0.02        18\n",
      "\n",
      "    accuracy                           0.94      3855\n",
      "   macro avg       0.50      0.55      0.50      3855\n",
      "weighted avg       0.99      0.94      0.96      3855\n",
      "\n"
     ]
    }
   ],
   "source": [
    "# Print classification report\n",
    "print(classification_report(y_pred,y_test))"
   ]
  },
  {
   "cell_type": "markdown",
   "id": "1436a156-a0bc-4dd0-acae-ac73af799326",
   "metadata": {},
   "source": [
    "## K-Fold Cross-Validation\n",
    "* This enables us to use all our data for both training and testing\n",
    "* As such, it gives a better sense of how well our model will make predictions for new data\n",
    "* It splits the dataset into k equal-size folds (this k is unrelated to k in knn)\n",
    "* It then repeatedly train the model with k-1 folds, and test the model with the remaining fold\n",
    "* The cycle continues until each fold has been used to test the model"
   ]
  },
  {
   "cell_type": "code",
   "execution_count": 55,
   "id": "04eb5f54-a51e-4181-8d69-296d652d948d",
   "metadata": {},
   "outputs": [
    {
     "data": {
      "text/plain": [
       "array([0.94041451, 0.91968912, 0.95336788, 0.93523316, 0.9507772 ,\n",
       "       0.91948052, 0.93766234, 0.95064935, 0.93766234, 0.95064935])"
      ]
     },
     "execution_count": 55,
     "metadata": {},
     "output_type": "execute_result"
    }
   ],
   "source": [
    "# K-Fold Cross-Validation\n",
    "\n",
    "kfold = KFold(n_splits=10, random_state=11, shuffle=True)\n",
    "scores = cross_val_score(estimator=knn, X=X_test_scaled, y=y_test, cv=kfold)\n",
    "scores"
   ]
  },
  {
   "cell_type": "code",
   "execution_count": 56,
   "id": "72cb8cb0-154d-4c72-8453-62e50e87afcd",
   "metadata": {},
   "outputs": [
    {
     "name": "stdout",
     "output_type": "stream",
     "text": [
      "Mean accuracy: 93.96%\n",
      "Accuracy standard deviation: 1.18%\n"
     ]
    }
   ],
   "source": [
    "print(f'Mean accuracy: {scores.mean():.2%}')\n",
    "print(f'Accuracy standard deviation: {scores.std():.2%}')"
   ]
  },
  {
   "cell_type": "markdown",
   "id": "c41c5ee3-9d01-4999-ba31-c1bd32cbc0f2",
   "metadata": {},
   "source": [
    "### KNN Hyperparameter Tuning\n",
    "* To determine the best k parameter, we'll try different values of k, then compare the estimator performance with each"
   ]
  },
  {
   "cell_type": "code",
   "execution_count": 68,
   "id": "f2498914-fd16-4b75-87d1-0cb8b0ef1707",
   "metadata": {},
   "outputs": [
    {
     "name": "stdout",
     "output_type": "stream",
     "text": [
      "k=1 ; mean accuracy=89.16%; standard deviation=0.81%\n",
      "k=2 ; mean accuracy=93.90%; standard deviation=0.69%\n",
      "k=3 ; mean accuracy=93.28%; standard deviation=0.64%\n",
      "k=4 ; mean accuracy=93.98%; standard deviation=0.57%\n",
      "k=5 ; mean accuracy=93.83%; standard deviation=0.57%\n",
      "k=6 ; mean accuracy=94.06%; standard deviation=0.65%\n",
      "k=7 ; mean accuracy=94.01%; standard deviation=0.62%\n",
      "k=8 ; mean accuracy=94.09%; standard deviation=0.66%\n",
      "k=9 ; mean accuracy=94.09%; standard deviation=0.66%\n",
      "k=10; mean accuracy=94.09%; standard deviation=0.66%\n",
      "k=11; mean accuracy=94.09%; standard deviation=0.66%\n",
      "k=12; mean accuracy=94.09%; standard deviation=0.66%\n",
      "k=13; mean accuracy=94.09%; standard deviation=0.66%\n",
      "k=14; mean accuracy=94.09%; standard deviation=0.66%\n",
      "k=15; mean accuracy=94.09%; standard deviation=0.66%\n",
      "k=16; mean accuracy=94.09%; standard deviation=0.66%\n",
      "k=17; mean accuracy=94.09%; standard deviation=0.66%\n",
      "k=18; mean accuracy=94.09%; standard deviation=0.66%\n",
      "k=19; mean accuracy=94.09%; standard deviation=0.66%\n"
     ]
    }
   ],
   "source": [
    "for k in range(1, 20, 1):\n",
    "    kfold = KFold(n_splits=5, random_state=11, shuffle=True)\n",
    "    knn = KNeighborsClassifier(n_neighbors=k)\n",
    "    scores = cross_val_score(estimator=knn, X=X_test_scaled, y=y_test, cv=kfold)\n",
    "    print(f'k={k:<2}; mean accuracy={scores.mean():.2%}; ' +\n",
    "         f'standard deviation={scores.std():.2%}')"
   ]
  },
  {
   "cell_type": "markdown",
   "id": "2da55afe-96f6-48a9-978f-71827994af07",
   "metadata": {},
   "source": [
    "## Support Vector Machine (SVM)\n",
    "* SVM is a kernel machine, whose behavior can be changed using different kernel function\n",
    "* The linear kernel is the most commonly used\n",
    "* However, when the relation between class labels and attributes is nonlinear, the RBF kernel is recommended\n",
    "* We'll use RBF kernel for our analysis\n",
    "* The RBF has two hyperparameters: C (defaut=1.0) and gamma (default='scale')\n",
    "* We'll start with the default hyperparameters, then use the “grid-search” approach to find the best C and gamma"
   ]
  },
  {
   "cell_type": "code",
   "execution_count": 76,
   "id": "16501492-e2a5-4ca5-bc87-e2bfedb9a231",
   "metadata": {},
   "outputs": [
    {
     "data": {
      "text/plain": [
       "SVC(C=10, gamma=0.001)"
      ]
     },
     "execution_count": 76,
     "metadata": {},
     "output_type": "execute_result"
    }
   ],
   "source": [
    "# Create an SVM classifier with an RBF kernel and set values of C and gamma to the default values\n",
    "svc = SVC(kernel='rbf', C=10, gamma=0.001)\n",
    "#svc = SVC(gamma='scale')\n",
    "  \n",
    "# Fit the model to the training data\n",
    "svc.fit(X_train_scaled, y_train)"
   ]
  },
  {
   "cell_type": "code",
   "execution_count": 77,
   "id": "39f5e7d6-948c-4dcf-8c3a-9e1e219b5012",
   "metadata": {},
   "outputs": [
    {
     "name": "stdout",
     "output_type": "stream",
     "text": [
      "Accuracy: 0.9411154345006485\n"
     ]
    }
   ],
   "source": [
    "# Calculate the accuracy of the model on the test data\n",
    "y_pred = svc.predict(X_test_scaled)\n",
    "accuracy = accuracy_score(y_test, y_pred)\n",
    "print('Accuracy:', accuracy)"
   ]
  },
  {
   "cell_type": "code",
   "execution_count": 78,
   "id": "b9961a48-b0db-48c7-97a7-818f30a1c18e",
   "metadata": {},
   "outputs": [
    {
     "name": "stdout",
     "output_type": "stream",
     "text": [
      "              precision    recall  f1-score   support\n",
      "\n",
      "         0.0       1.00      0.94      0.97      3854\n",
      "         1.0       0.00      1.00      0.01         1\n",
      "\n",
      "    accuracy                           0.94      3855\n",
      "   macro avg       0.50      0.97      0.49      3855\n",
      "weighted avg       1.00      0.94      0.97      3855\n",
      "\n"
     ]
    }
   ],
   "source": [
    "# Print classification report\n",
    "print(classification_report(y_pred,y_test))"
   ]
  },
  {
   "cell_type": "code",
   "execution_count": 72,
   "id": "e8a7b796-2ff7-40ea-81b0-c6a629bf7f89",
   "metadata": {},
   "outputs": [
    {
     "name": "stdout",
     "output_type": "stream",
     "text": [
      "Fitting 5 folds for each of 16 candidates, totalling 80 fits\n",
      "[CV] END .....................................C=0.1, gamma=1; total time=   8.3s\n",
      "[CV] END .....................................C=0.1, gamma=1; total time=   8.3s\n",
      "[CV] END .....................................C=0.1, gamma=1; total time=   7.8s\n",
      "[CV] END .....................................C=0.1, gamma=1; total time=  10.0s\n",
      "[CV] END .....................................C=0.1, gamma=1; total time=   8.2s\n",
      "[CV] END ...................................C=0.1, gamma=0.1; total time=   3.5s\n",
      "[CV] END ...................................C=0.1, gamma=0.1; total time=   3.5s\n",
      "[CV] END ...................................C=0.1, gamma=0.1; total time=   3.6s\n",
      "[CV] END ...................................C=0.1, gamma=0.1; total time=   3.5s\n",
      "[CV] END ...................................C=0.1, gamma=0.1; total time=   3.5s\n",
      "[CV] END ..................................C=0.1, gamma=0.01; total time=   1.8s\n",
      "[CV] END ..................................C=0.1, gamma=0.01; total time=   1.8s\n",
      "[CV] END ..................................C=0.1, gamma=0.01; total time=   1.8s\n",
      "[CV] END ..................................C=0.1, gamma=0.01; total time=   1.8s\n",
      "[CV] END ..................................C=0.1, gamma=0.01; total time=   1.8s\n",
      "[CV] END .................................C=0.1, gamma=0.001; total time=   0.8s\n",
      "[CV] END .................................C=0.1, gamma=0.001; total time=   0.9s\n",
      "[CV] END .................................C=0.1, gamma=0.001; total time=   0.9s\n",
      "[CV] END .................................C=0.1, gamma=0.001; total time=   0.9s\n",
      "[CV] END .................................C=0.1, gamma=0.001; total time=   1.0s\n",
      "[CV] END .......................................C=1, gamma=1; total time=   9.1s\n",
      "[CV] END .......................................C=1, gamma=1; total time=  10.4s\n",
      "[CV] END .......................................C=1, gamma=1; total time=   9.2s\n",
      "[CV] END .......................................C=1, gamma=1; total time=   9.6s\n",
      "[CV] END .......................................C=1, gamma=1; total time=   9.3s\n",
      "[CV] END .....................................C=1, gamma=0.1; total time=   3.7s\n",
      "[CV] END .....................................C=1, gamma=0.1; total time=   3.5s\n",
      "[CV] END .....................................C=1, gamma=0.1; total time=   3.5s\n",
      "[CV] END .....................................C=1, gamma=0.1; total time=   3.5s\n",
      "[CV] END .....................................C=1, gamma=0.1; total time=   3.6s\n",
      "[CV] END ....................................C=1, gamma=0.01; total time=   2.7s\n",
      "[CV] END ....................................C=1, gamma=0.01; total time=   2.8s\n",
      "[CV] END ....................................C=1, gamma=0.01; total time=   2.7s\n",
      "[CV] END ....................................C=1, gamma=0.01; total time=   2.8s\n",
      "[CV] END ....................................C=1, gamma=0.01; total time=   3.1s\n",
      "[CV] END ...................................C=1, gamma=0.001; total time=   1.4s\n",
      "[CV] END ...................................C=1, gamma=0.001; total time=   1.4s\n",
      "[CV] END ...................................C=1, gamma=0.001; total time=   1.6s\n",
      "[CV] END ...................................C=1, gamma=0.001; total time=   1.5s\n",
      "[CV] END ...................................C=1, gamma=0.001; total time=   1.4s\n",
      "[CV] END ......................................C=10, gamma=1; total time=  10.8s\n",
      "[CV] END ......................................C=10, gamma=1; total time=  10.8s\n",
      "[CV] END ......................................C=10, gamma=1; total time=  11.1s\n",
      "[CV] END ......................................C=10, gamma=1; total time=  10.7s\n",
      "[CV] END ......................................C=10, gamma=1; total time=  11.3s\n",
      "[CV] END ....................................C=10, gamma=0.1; total time=   3.3s\n",
      "[CV] END ....................................C=10, gamma=0.1; total time=   3.3s\n",
      "[CV] END ....................................C=10, gamma=0.1; total time=   3.3s\n",
      "[CV] END ....................................C=10, gamma=0.1; total time=   3.3s\n",
      "[CV] END ....................................C=10, gamma=0.1; total time=   3.4s\n",
      "[CV] END ...................................C=10, gamma=0.01; total time=   3.5s\n",
      "[CV] END ...................................C=10, gamma=0.01; total time=   3.8s\n",
      "[CV] END ...................................C=10, gamma=0.01; total time=   3.5s\n",
      "[CV] END ...................................C=10, gamma=0.01; total time=   3.5s\n",
      "[CV] END ...................................C=10, gamma=0.01; total time=   3.8s\n",
      "[CV] END ..................................C=10, gamma=0.001; total time=   4.3s\n",
      "[CV] END ..................................C=10, gamma=0.001; total time=   4.1s\n",
      "[CV] END ..................................C=10, gamma=0.001; total time=   3.8s\n",
      "[CV] END ..................................C=10, gamma=0.001; total time=   4.2s\n",
      "[CV] END ..................................C=10, gamma=0.001; total time=   4.3s\n",
      "[CV] END .....................................C=100, gamma=1; total time=  10.5s\n",
      "[CV] END .....................................C=100, gamma=1; total time=  11.0s\n",
      "[CV] END .....................................C=100, gamma=1; total time=  10.8s\n",
      "[CV] END .....................................C=100, gamma=1; total time=  10.5s\n",
      "[CV] END .....................................C=100, gamma=1; total time=  10.8s\n",
      "[CV] END ...................................C=100, gamma=0.1; total time=   2.8s\n",
      "[CV] END ...................................C=100, gamma=0.1; total time=   3.0s\n",
      "[CV] END ...................................C=100, gamma=0.1; total time=   3.1s\n",
      "[CV] END ...................................C=100, gamma=0.1; total time=   2.9s\n",
      "[CV] END ...................................C=100, gamma=0.1; total time=   2.8s\n",
      "[CV] END ..................................C=100, gamma=0.01; total time=   4.8s\n",
      "[CV] END ..................................C=100, gamma=0.01; total time=   5.2s\n",
      "[CV] END ..................................C=100, gamma=0.01; total time=   5.0s\n",
      "[CV] END ..................................C=100, gamma=0.01; total time=   5.2s\n",
      "[CV] END ..................................C=100, gamma=0.01; total time=   5.4s\n",
      "[CV] END .................................C=100, gamma=0.001; total time=  18.6s\n",
      "[CV] END .................................C=100, gamma=0.001; total time=  18.8s\n",
      "[CV] END .................................C=100, gamma=0.001; total time=  16.5s\n",
      "[CV] END .................................C=100, gamma=0.001; total time=  19.0s\n",
      "[CV] END .................................C=100, gamma=0.001; total time=  18.8s\n",
      "The best parameters are {'C': 10, 'gamma': 0.001} with a score of 0.94\n"
     ]
    }
   ],
   "source": [
    "# Finding the best values for C and gamma using GridSearch  \n",
    "# Define the parameter grid\n",
    "param_grid = {'C': [0.1, 1, 10, 100], 'gamma': [1, 0.1, 0.01, 0.001]}\n",
    "  \n",
    "# Create a grid search object\n",
    "grid = GridSearchCV(SVC(), param_grid, refit=True, verbose=2)\n",
    "  \n",
    "# Fit the grid search object to the training data\n",
    "grid.fit(X_train_scaled, y_train)\n",
    "  \n",
    "# Get the best parameters\n",
    "print(\n",
    "    \"The best parameters are %s with a score of %0.2f\"\n",
    "    % (grid.best_params_, grid.best_score_)\n",
    ")"
   ]
  },
  {
   "cell_type": "markdown",
   "id": "fce83945-ab9f-4645-95f0-1d51d444d756",
   "metadata": {},
   "source": [
    "## Comparing the Performance of Multiple Models\n",
    "* It's difficult to know in advance which machine learning model(s) will perform best\n",
    "* In this section, we'll use the previously discussed individual techniques to compare several classification estimators"
   ]
  },
  {
   "cell_type": "code",
   "execution_count": 80,
   "id": "0c36c33a-4fab-4791-8edc-a03eb86a9621",
   "metadata": {},
   "outputs": [
    {
     "name": "stdout",
     "output_type": "stream",
     "text": [
      "KNeighborsClassifier: mean accuracy=94.09%: standard deviation=1.14%\n",
      "                 SVC: mean accuracy=94.09%: standard deviation=1.14%\n"
     ]
    }
   ],
   "source": [
    "# Create the estimators using dictionary key-value pairs\n",
    "estimators = {\n",
    "    'KNeighborsClassifier': knn,\n",
    "    'SVC': SVC(kernel='rbf', C=10, gamma=0.001)}\n",
    "\n",
    "# Executing the models\n",
    "for estimator_name, estimator_object in estimators.items():\n",
    "    kfold = KFold(n_splits=10, random_state=11, shuffle=True)\n",
    "    scores = cross_val_score(estimator=estimator_object, X=X_test_scaled, y=y_test, cv=kfold)\n",
    "    print(f'{estimator_name:>20}: ' + \n",
    "         f'mean accuracy={scores.mean():.2%}: ' +\n",
    "         f'standard deviation={scores.std():.2%}')"
   ]
  },
  {
   "cell_type": "code",
   "execution_count": null,
   "id": "8363542b-d32d-4c92-89c5-303bb94bb590",
   "metadata": {},
   "outputs": [],
   "source": []
  }
 ],
 "metadata": {
  "kernelspec": {
   "display_name": "Python 3 (ipykernel)",
   "language": "python",
   "name": "python3"
  },
  "language_info": {
   "codemirror_mode": {
    "name": "ipython",
    "version": 3
   },
   "file_extension": ".py",
   "mimetype": "text/x-python",
   "name": "python",
   "nbconvert_exporter": "python",
   "pygments_lexer": "ipython3",
   "version": "3.7.13"
  }
 },
 "nbformat": 4,
 "nbformat_minor": 5
}
